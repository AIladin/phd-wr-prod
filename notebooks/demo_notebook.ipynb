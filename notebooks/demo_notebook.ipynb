{
  "cells": [
    {
      "cell_type": "markdown",
      "id": "3d2364b6-77b7-4a34-88ff-2ae05fe2a78f",
      "metadata": {
        "id": "3d2364b6-77b7-4a34-88ff-2ae05fe2a78f"
      },
      "source": [
        "# Demo for $\\mathbf{Z}_3 \\wr \\mathbf{Z}_3 \\wr \\mathbf{Z}_3$"
      ]
    },
    {
      "cell_type": "code",
      "source": [
        "%pip install git+https://github.com/AIladin/phd-wr-prod.git"
      ],
      "metadata": {
        "colab": {
          "base_uri": "https://localhost:8080/"
        },
        "id": "Gczh6D9HjhSx",
        "outputId": "1dc33717-9eba-43a2-959d-579cdc7dfc99"
      },
      "id": "Gczh6D9HjhSx",
      "execution_count": 2,
      "outputs": [
        {
          "output_type": "stream",
          "name": "stdout",
          "text": [
            "Collecting git+https://github.com/AIladin/phd-wr-prod.git\n",
            "  Cloning https://github.com/AIladin/phd-wr-prod.git to /tmp/pip-req-build-wvf5pm9u\n",
            "  Running command git clone --filter=blob:none --quiet https://github.com/AIladin/phd-wr-prod.git /tmp/pip-req-build-wvf5pm9u\n",
            "  Resolved https://github.com/AIladin/phd-wr-prod.git to commit a0fc743ba75c3eb0198f413b77680ec136951008\n",
            "  Installing build dependencies ... \u001b[?25l\u001b[?25hdone\n",
            "  Getting requirements to build wheel ... \u001b[?25l\u001b[?25hdone\n",
            "  Preparing metadata (pyproject.toml) ... \u001b[?25l\u001b[?25hdone\n",
            "Requirement already satisfied: frozendict in /usr/local/lib/python3.10/dist-packages (from wrepy==0.0.2) (2.4.4)\n",
            "Requirement already satisfied: more-itertools in /usr/local/lib/python3.10/dist-packages (from wrepy==0.0.2) (10.1.0)\n",
            "Requirement already satisfied: numba in /usr/local/lib/python3.10/dist-packages (from wrepy==0.0.2) (0.58.1)\n",
            "Requirement already satisfied: numpy in /usr/local/lib/python3.10/dist-packages (from wrepy==0.0.2) (1.25.2)\n",
            "Requirement already satisfied: rich in /usr/local/lib/python3.10/dist-packages (from wrepy==0.0.2) (13.7.1)\n",
            "Requirement already satisfied: scipy in /usr/local/lib/python3.10/dist-packages (from wrepy==0.0.2) (1.11.4)\n",
            "Requirement already satisfied: tqdm in /usr/local/lib/python3.10/dist-packages (from wrepy==0.0.2) (4.66.4)\n",
            "Requirement already satisfied: llvmlite<0.42,>=0.41.0dev0 in /usr/local/lib/python3.10/dist-packages (from numba->wrepy==0.0.2) (0.41.1)\n",
            "Requirement already satisfied: markdown-it-py>=2.2.0 in /usr/local/lib/python3.10/dist-packages (from rich->wrepy==0.0.2) (3.0.0)\n",
            "Requirement already satisfied: pygments<3.0.0,>=2.13.0 in /usr/local/lib/python3.10/dist-packages (from rich->wrepy==0.0.2) (2.16.1)\n",
            "Requirement already satisfied: mdurl~=0.1 in /usr/local/lib/python3.10/dist-packages (from markdown-it-py>=2.2.0->rich->wrepy==0.0.2) (0.1.2)\n",
            "Building wheels for collected packages: wrepy\n",
            "  Building wheel for wrepy (pyproject.toml) ... \u001b[?25l\u001b[?25hdone\n",
            "  Created wheel for wrepy: filename=wrepy-0.0.2-py3-none-any.whl size=7279 sha256=b8b7ed7a576f9d414febaa5545b4bf01ab50928206c860fbfa2ec6625accf016\n",
            "  Stored in directory: /tmp/pip-ephem-wheel-cache-w9rfk3cw/wheels/9f/32/5e/e7dc4a7e9a24e971bb93de2fcba0b1f8f30e52e21665562dc3\n",
            "Successfully built wrepy\n",
            "Installing collected packages: wrepy\n",
            "  Attempting uninstall: wrepy\n",
            "    Found existing installation: wrepy 0.0.1\n",
            "    Uninstalling wrepy-0.0.1:\n",
            "      Successfully uninstalled wrepy-0.0.1\n",
            "Successfully installed wrepy-0.0.2\n"
          ]
        }
      ]
    },
    {
      "cell_type": "code",
      "execution_count": 3,
      "id": "5586c99d-dcde-4464-9891-7165d7c5c62b",
      "metadata": {
        "id": "5586c99d-dcde-4464-9891-7165d7c5c62b"
      },
      "outputs": [],
      "source": [
        "import itertools\n",
        "import pickle\n",
        "import random\n",
        "\n",
        "import numba\n",
        "import numpy as np\n",
        "import scipy\n",
        "from numba import cuda\n",
        "from tqdm.auto import tqdm\n",
        "\n",
        "from wrepy import (\n",
        "    CyclicGroupPermutationFactory,\n",
        "    GeneratorSetFactory,\n",
        "    Permutation,\n",
        "    PermutationGroup,\n",
        ")\n",
        "from wrepy.cuda import device_fn, kernels, portrait\n",
        "from wrepy.cuda.utils import kernel_2d_spec"
      ]
    },
    {
      "cell_type": "markdown",
      "id": "2e8d09f6-2143-449b-95f2-e6cb9962a1d0",
      "metadata": {
        "id": "2e8d09f6-2143-449b-95f2-e6cb9962a1d0"
      },
      "source": [
        "## Util functions"
      ]
    },
    {
      "cell_type": "code",
      "execution_count": 4,
      "id": "48d2a3af-cb69-4b08-b001-5f36f6f364e0",
      "metadata": {
        "id": "48d2a3af-cb69-4b08-b001-5f36f6f364e0"
      },
      "outputs": [],
      "source": [
        "def column_print(p: Permutation):\n",
        "    for k, v in sorted(p.rule.items()):\n",
        "        print(f\"{k} -> {v}\")\n",
        "\n",
        "\n",
        "def get_cycle(p: Permutation, v: tuple[int, int, int]) -> list[tuple[int, int, int]]:\n",
        "    cycle = []\n",
        "    while v not in cycle:\n",
        "        cycle.append(v)\n",
        "        v = v**p\n",
        "    return cycle\n",
        "\n",
        "\n",
        "class SliceIterator:\n",
        "    def __init__(\n",
        "        self,\n",
        "        total: int,\n",
        "        batch_size: int,\n",
        "    ):\n",
        "        self.batch_size = batch_size\n",
        "        self.total = total\n",
        "\n",
        "        self.last_idx = 0\n",
        "\n",
        "    def __iter__(self):\n",
        "        return self\n",
        "\n",
        "    def __next__(self) -> slice:\n",
        "        if self.last_idx >= self.total:\n",
        "            raise StopIteration\n",
        "\n",
        "        next_slice = slice(\n",
        "            self.last_idx,\n",
        "            self.last_idx + min(self.total - self.last_idx, self.batch_size),\n",
        "        )\n",
        "        self.last_idx += self.batch_size\n",
        "        return next_slice\n",
        "\n",
        "    def __len__(self):\n",
        "        n_batches = self.total // self.batch_size\n",
        "\n",
        "        if self.total % self.batch_size != 0:\n",
        "            n_batches += 1\n",
        "\n",
        "        return n_batches"
      ]
    },
    {
      "cell_type": "markdown",
      "id": "aeaed58f-67ed-482b-8a72-25f6be6d0ac5",
      "metadata": {
        "id": "aeaed58f-67ed-482b-8a72-25f6be6d0ac5"
      },
      "source": [
        "## Data preparation"
      ]
    },
    {
      "cell_type": "code",
      "execution_count": 5,
      "id": "262e520c-0938-4f1e-b152-7a2751c349da",
      "metadata": {
        "colab": {
          "base_uri": "https://localhost:8080/"
        },
        "id": "262e520c-0938-4f1e-b152-7a2751c349da",
        "outputId": "8753ad4d-862e-4895-9ba2-5189b5aad006"
      },
      "outputs": [
        {
          "output_type": "execute_result",
          "data": {
            "text/plain": [
              "PermutationGroup(order=1594323)"
            ]
          },
          "metadata": {},
          "execution_count": 5
        }
      ],
      "source": [
        "N = 3\n",
        "z3 = PermutationGroup(\n",
        "    set(range(N)),  # define the underling set as {0, 1, 2}\n",
        "    CyclicGroupPermutationFactory,  # setting the rule how to build group from underling set\n",
        ")\n",
        "z3z3 = z3.wreath_product(z3)\n",
        "z3z3z3 = z3z3.wreath_product(z3)\n",
        "z3z3z3"
      ]
    },
    {
      "cell_type": "markdown",
      "id": "582484df-d5cd-4e42-8a21-1c073c471897",
      "metadata": {
        "id": "582484df-d5cd-4e42-8a21-1c073c471897"
      },
      "source": [
        "## Running test"
      ]
    },
    {
      "cell_type": "code",
      "execution_count": 6,
      "id": "0ccb7df9-7bac-4b7d-b839-b50ff4ac7f58",
      "metadata": {
        "id": "0ccb7df9-7bac-4b7d-b839-b50ff4ac7f58"
      },
      "outputs": [],
      "source": [
        "arities = np.array([3, 3, 3], dtype=np.int8)\n",
        "portraits = portrait.portrait_array_from_arities(*arities)\n",
        "all_points = portrait.get_zn_decart_space(*arities)\n",
        "\n",
        "arities_cuda = cuda.to_device(arities)\n",
        "all_points_cuda = cuda.to_device(all_points)"
      ]
    },
    {
      "cell_type": "code",
      "execution_count": 7,
      "id": "990c9531-7ee6-4a4d-b5ed-5ad0b9854734",
      "metadata": {
        "colab": {
          "base_uri": "https://localhost:8080/"
        },
        "id": "990c9531-7ee6-4a4d-b5ed-5ad0b9854734",
        "outputId": "9eb420c3-99ee-4249-b396-141e3932c40e"
      },
      "outputs": [
        {
          "output_type": "stream",
          "name": "stderr",
          "text": [
            "/usr/local/lib/python3.10/dist-packages/numba/cuda/cudadrv/devicearray.py:886: NumbaPerformanceWarning: Host array used in CUDA kernel will incur copy overhead to/from device.\n",
            "  warn(NumbaPerformanceWarning(msg))\n"
          ]
        },
        {
          "output_type": "stream",
          "name": "stdout",
          "text": [
            "Order: 1: counts 1\n",
            "Order: 3: counts 104246\n",
            "Order: 9: counts 1017684\n",
            "Order: 27: counts 472392\n",
            "CPU times: user 350 ms, sys: 9.78 ms, total: 360 ms\n",
            "Wall time: 361 ms\n"
          ]
        }
      ],
      "source": [
        "%%time\n",
        "# calculating orders\n",
        "\n",
        "portraits_cuda = cuda.to_device(portraits)\n",
        "tmp_1 = cuda.device_array_like(portraits_cuda)\n",
        "tmp_2 = cuda.device_array_like(portraits_cuda)\n",
        "\n",
        "orders_cuda = cuda.device_array(len(portraits_cuda), dtype=int)\n",
        "\n",
        "kernels.order_kernel.forall(len(portraits_cuda))(\n",
        "    arities_cuda,\n",
        "    portraits,\n",
        "    tmp_1,\n",
        "    tmp_2,\n",
        "    all_points_cuda,\n",
        "    orders_cuda,\n",
        ")\n",
        "\n",
        "orders = orders_cuda.copy_to_host()\n",
        "for label, counts in zip(*np.unique(orders, return_counts=True)):\n",
        "    print(f\"Order: {label}: counts {counts}\")"
      ]
    },
    {
      "cell_type": "code",
      "execution_count": 8,
      "id": "d9fd4b04-a9dc-4333-b442-d5119963d05c",
      "metadata": {
        "colab": {
          "base_uri": "https://localhost:8080/"
        },
        "id": "d9fd4b04-a9dc-4333-b442-d5119963d05c",
        "outputId": "48437086-9826-408b-8848-1ddf6e421b76"
      },
      "outputs": [
        {
          "output_type": "execute_result",
          "data": {
            "text/plain": [
              "(104246, 13)"
            ]
          },
          "metadata": {},
          "execution_count": 8
        }
      ],
      "source": [
        "order_3_portraits = portraits[orders == 3]\n",
        "order_3_portraits.shape"
      ]
    },
    {
      "cell_type": "code",
      "execution_count": 9,
      "id": "7d0ac1dd-74e4-450b-a6c3-407ef4892796",
      "metadata": {
        "colab": {
          "base_uri": "https://localhost:8080/"
        },
        "id": "7d0ac1dd-74e4-450b-a6c3-407ef4892796",
        "outputId": "337f88fe-b118-4eb2-a982-cef8f9f7b0e8"
      },
      "outputs": [
        {
          "output_type": "execute_result",
          "data": {
            "text/plain": [
              "array([0, 0, 0, 0, 0, 0, 0, 0, 0, 1, 1, 2, 1], dtype=int8)"
            ]
          },
          "metadata": {},
          "execution_count": 9
        }
      ],
      "source": [
        "order_3_portraits[42]"
      ]
    },
    {
      "cell_type": "code",
      "execution_count": 10,
      "id": "c8b07f15-1236-417a-bae8-92970e00fde6",
      "metadata": {
        "colab": {
          "base_uri": "https://localhost:8080/"
        },
        "id": "c8b07f15-1236-417a-bae8-92970e00fde6",
        "outputId": "4f90b5cb-19cd-4a82-a704-849a0a3f259c"
      },
      "outputs": [
        {
          "output_type": "stream",
          "name": "stdout",
          "text": [
            "n_fixed_points: 0: counts 30698\n",
            "n_fixed_points: 3: counts 24336\n",
            "n_fixed_points: 6: counts 23400\n",
            "n_fixed_points: 9: counts 14988\n",
            "n_fixed_points: 12: counts 7272\n",
            "n_fixed_points: 15: counts 2664\n",
            "n_fixed_points: 18: counts 726\n",
            "n_fixed_points: 21: counts 144\n",
            "n_fixed_points: 24: counts 18\n",
            "CPU times: user 8.81 ms, sys: 975 µs, total: 9.79 ms\n",
            "Wall time: 11.6 ms\n"
          ]
        },
        {
          "output_type": "stream",
          "name": "stderr",
          "text": [
            "/usr/local/lib/python3.10/dist-packages/numba/cuda/dispatcher.py:536: NumbaPerformanceWarning: Grid size 102 will likely result in GPU under-utilization due to low occupancy.\n",
            "  warn(NumbaPerformanceWarning(msg))\n"
          ]
        }
      ],
      "source": [
        "%%time\n",
        "# counting the number of fixed points\n",
        "order_3_portraits_cuda = cuda.to_device(order_3_portraits)\n",
        "n_fixed_points_cuda = cuda.device_array(len(order_3_portraits), dtype=int)\n",
        "\n",
        "kernels.n_fixed_points_kernel.forall(len(order_3_portraits))(\n",
        "    arities, order_3_portraits_cuda, all_points_cuda, n_fixed_points_cuda\n",
        ")\n",
        "\n",
        "n_fixed_points = n_fixed_points_cuda.copy_to_host()\n",
        "for label, counts in zip(*np.unique(n_fixed_points, return_counts=True)):\n",
        "    print(f\"n_fixed_points: {label}: counts {counts}\")"
      ]
    },
    {
      "cell_type": "code",
      "execution_count": 11,
      "id": "b82b13ae-98b9-4439-b3f8-ad328021eec4",
      "metadata": {
        "id": "b82b13ae-98b9-4439-b3f8-ad328021eec4"
      },
      "outputs": [],
      "source": [
        "c_candidates = order_3_portraits[n_fixed_points == 3]\n",
        "d_candidates = order_3_portraits[n_fixed_points == 0]"
      ]
    },
    {
      "cell_type": "code",
      "execution_count": 12,
      "id": "ef00b03e-bf49-441b-bcd3-fd55b981c99f",
      "metadata": {
        "id": "ef00b03e-bf49-441b-bcd3-fd55b981c99f"
      },
      "outputs": [],
      "source": [
        "n_nodes = c_candidates.shape[-1]\n",
        "point_dim = all_points.shape[-1]\n",
        "\n",
        "@cuda.jit(\n",
        "    numba.void(\n",
        "        numba.int8[:],\n",
        "        numba.int8[:, :],\n",
        "        numba.int8[:, :],\n",
        "        numba.int8[:, :],\n",
        "        numba.bool_[:, :],\n",
        "    )\n",
        ")\n",
        "def main_kernel(\n",
        "    arities,\n",
        "    portraits_c,\n",
        "    portraits_d,\n",
        "    all_points,\n",
        "    result,\n",
        "):\n",
        "    # tmp local memory\n",
        "\n",
        "    global n_nodes\n",
        "    global point_dim\n",
        "\n",
        "    tmp_1 = cuda.local.array(n_nodes, numba.int8)\n",
        "    tmp_2 = cuda.local.array(n_nodes, numba.int8)\n",
        "    tmp_3 = cuda.local.array(n_nodes, numba.int8)\n",
        "    point_tmp = cuda.local.array(point_dim, numba.int8)\n",
        "\n",
        "    c_idx, d_idx = cuda.grid(2)\n",
        "\n",
        "    result[c_idx, d_idx] = False\n",
        "\n",
        "    if c_idx >= len(portraits_c) or d_idx >= len(portraits_d):\n",
        "        return\n",
        "\n",
        "    c = portraits_c[c_idx]\n",
        "    d = portraits_d[d_idx]\n",
        "\n",
        "    ## Fixed point check\n",
        "\n",
        "    for point in all_points:\n",
        "        if device_fn.is_fixed_point(arities, c, point):\n",
        "            device_fn.action(arities, d, point, point_tmp)\n",
        "\n",
        "            if device_fn.is_fixed_point(arities, c, point_tmp):\n",
        "                result[c_idx, d_idx] = False\n",
        "                return\n",
        "\n",
        "    # $(dc^{2})^{3}$ is non-trivial\n",
        "\n",
        "    # dc -> tmp_1\n",
        "    device_fn.portait_mul(arities, d, c, tmp_1, all_points)\n",
        "    # dc^2 -> tmp_2d_2\n",
        "    device_fn.portait_mul(arities, tmp_1, c, tmp_2, all_points)\n",
        "    # (dc^2) ^ 2 -> tmp_2d_1\n",
        "    device_fn.portait_mul(arities, tmp_2, tmp_2, tmp_1, all_points)\n",
        "    # (dc^2) ^ 3 -> tmp_2d_3\n",
        "    device_fn.portait_mul(arities, tmp_1, tmp_2, tmp_3, all_points)\n",
        "\n",
        "    if device_fn.check_zero(tmp_3):\n",
        "        result[c_idx, d_idx] = False\n",
        "        return\n",
        "    ## check (c^{-1}dc)d = d(c^{-1}dc)\n",
        "\n",
        "    # c^(-1) -> tmp_2d_2\n",
        "    device_fn.portait_inverse(arities, c, tmp_2, all_points)\n",
        "\n",
        "    # c^(-1)d -> tmp_2d_1\n",
        "    device_fn.portait_mul(arities, tmp_2, d, tmp_1, all_points)\n",
        "\n",
        "    # c^(-1)dc -> tmp_2d_3\n",
        "    device_fn.portait_mul(arities, tmp_1, c, tmp_3, all_points)\n",
        "\n",
        "    # (c^(-1)dc)d -> tmp_2d_1\n",
        "    device_fn.portait_mul(arities, tmp_3, d, tmp_1, all_points)\n",
        "\n",
        "    # d(c^(-1)dc) -> tmp_2d_2\n",
        "    device_fn.portait_mul(arities, d, tmp_3, tmp_2, all_points)\n",
        "\n",
        "    # check (c^{-1}dc)d = d(c^{-1}dc)\n",
        "    if not device_fn.eq_portrait(tmp_1, tmp_2):\n",
        "        result[c_idx, d_idx] = False\n",
        "        return\n",
        "\n",
        "    result[c_idx, d_idx] = True"
      ]
    },
    {
      "cell_type": "code",
      "execution_count": 49,
      "id": "f5954663-0dcf-4751-8f8e-596ff263612e",
      "metadata": {
        "id": "f5954663-0dcf-4751-8f8e-596ff263612e"
      },
      "outputs": [],
      "source": [
        "BATCH_SIZE = 2048\n",
        "\n",
        "c_candidates_cuda = cuda.to_device(c_candidates)\n",
        "d_candidates_cuda = cuda.to_device(d_candidates)\n",
        "result_cuda = cuda.device_array((BATCH_SIZE, BATCH_SIZE), dtype=bool)\n",
        "\n",
        "bpg, tpb = kernel_2d_spec((BATCH_SIZE, BATCH_SIZE), (16, 16))\n",
        "\n",
        "compiled_kernel = main_kernel[bpg, tpb]"
      ]
    },
    {
      "cell_type": "code",
      "execution_count": 50,
      "id": "84090654-3dc8-4116-a58c-92b5aaa4f3a5",
      "metadata": {
        "id": "84090654-3dc8-4116-a58c-92b5aaa4f3a5"
      },
      "outputs": [],
      "source": [
        "def run_block(c_slice: slice, d_slice: slice) -> np.ndarray:\n",
        "    # slcies shoud be square\n",
        "\n",
        "    c_data = c_candidates_cuda[c_slice]\n",
        "    d_data = d_candidates_cuda[d_slice]\n",
        "\n",
        "    compiled_kernel(\n",
        "        arities_cuda,\n",
        "        c_data,\n",
        "        d_data,\n",
        "        all_points_cuda,\n",
        "        result_cuda,\n",
        "    )\n",
        "    return result_cuda.copy_to_host()"
      ]
    },
    {
      "cell_type": "code",
      "execution_count": 51,
      "id": "17c591ba-2e97-4ce1-94fb-1e056174898f",
      "metadata": {
        "colab": {
          "base_uri": "https://localhost:8080/"
        },
        "id": "17c591ba-2e97-4ce1-94fb-1e056174898f",
        "outputId": "6184c589-811c-4b3e-a29d-09d62ec4a486"
      },
      "outputs": [
        {
          "output_type": "stream",
          "name": "stdout",
          "text": [
            "CPU times: user 260 ms, sys: 983 µs, total: 261 ms\n",
            "Wall time: 260 ms\n"
          ]
        },
        {
          "output_type": "execute_result",
          "data": {
            "text/plain": [
              "False"
            ]
          },
          "metadata": {},
          "execution_count": 51
        }
      ],
      "source": [
        "%%time\n",
        "c_idx = 0\n",
        "d_idx = 0\n",
        "run_block(slice(c_idx, c_idx + BATCH_SIZE), slice(d_idx, d_idx + BATCH_SIZE)).any()"
      ]
    },
    {
      "cell_type": "code",
      "execution_count": 22,
      "id": "d0e929ad-5a13-44d0-816e-81dd8cd33042",
      "metadata": {
        "colab": {
          "base_uri": "https://localhost:8080/",
          "height": 49,
          "referenced_widgets": [
            "ca970877929b4c1bb42b7ece46278fc8",
            "a85b0e5217f5446b8c18cca695798b11",
            "bd67a51eee61419a944ad212efbfe22b",
            "b365162c99b44ec485651e6120817100",
            "b05b28dad143411eb8b500c83cb2c1e8",
            "373862abc26a47e5a3fed0bfa731ab21",
            "40188fad36424c23895d2af980ddad0a",
            "c0ffab592d4b4cfabd55f31e473e9f37",
            "f598c90bc0bf4a54b9462419adddd542",
            "db0ea4fd6901453a9c52da7237f63f62",
            "56d00072a7f44cf1881f090c72e590ed"
          ]
        },
        "id": "d0e929ad-5a13-44d0-816e-81dd8cd33042",
        "outputId": "67f858fd-d6ad-48d2-f54d-0a204515e6c9"
      },
      "outputs": [
        {
          "output_type": "display_data",
          "data": {
            "text/plain": [
              "  0%|          | 0/180 [00:00<?, ?it/s]"
            ],
            "application/vnd.jupyter.widget-view+json": {
              "version_major": 2,
              "version_minor": 0,
              "model_id": "ca970877929b4c1bb42b7ece46278fc8"
            }
          },
          "metadata": {}
        }
      ],
      "source": [
        "valid_indexes_c = []\n",
        "valid_indexes_d = []\n",
        "\n",
        "\n",
        "c_slice_iterator = SliceIterator(len(c_candidates), BATCH_SIZE)\n",
        "d_slice_iterator = SliceIterator(len(d_candidates), BATCH_SIZE)\n",
        "\n",
        "for c_slice, d_slice in tqdm(\n",
        "    itertools.product(c_slice_iterator, d_slice_iterator),\n",
        "    total=len(c_slice_iterator) * len(d_slice_iterator),\n",
        "):\n",
        "    c_indexes, d_indexes = run_block(c_slice, d_slice).nonzero()\n",
        "\n",
        "    valid_indexes_c.append(c_indexes + c_slice.start)\n",
        "    valid_indexes_d.append(d_indexes + d_slice.start)"
      ]
    },
    {
      "cell_type": "code",
      "execution_count": 23,
      "id": "c0d1ec4a-1f85-4fcf-815e-3b9055e431ad",
      "metadata": {
        "id": "c0d1ec4a-1f85-4fcf-815e-3b9055e431ad"
      },
      "outputs": [],
      "source": [
        "valid_indexes_c = np.concatenate(valid_indexes_c)\n",
        "valid_indexes_d = np.concatenate(valid_indexes_d)"
      ]
    },
    {
      "cell_type": "code",
      "execution_count": 24,
      "id": "3bf4ad10-9bcf-4f1e-bb19-2256e5c1f19c",
      "metadata": {
        "colab": {
          "base_uri": "https://localhost:8080/"
        },
        "id": "3bf4ad10-9bcf-4f1e-bb19-2256e5c1f19c",
        "outputId": "fa1cba05-b1e2-4af2-d1cc-d58f760a1190"
      },
      "outputs": [
        {
          "output_type": "execute_result",
          "data": {
            "text/plain": [
              "(40223304,)"
            ]
          },
          "metadata": {},
          "execution_count": 24
        }
      ],
      "source": [
        "valid_indexes_c.shape"
      ]
    },
    {
      "cell_type": "markdown",
      "id": "843935e9-844b-4d04-8390-88952abc8b94",
      "metadata": {
        "id": "843935e9-844b-4d04-8390-88952abc8b94"
      },
      "source": [
        "## Demo"
      ]
    },
    {
      "cell_type": "code",
      "execution_count": 25,
      "id": "e2d803ce-ef70-4224-9fe0-159b094a0438",
      "metadata": {
        "id": "e2d803ce-ef70-4224-9fe0-159b094a0438"
      },
      "outputs": [],
      "source": [
        "c_permutations = portrait.to_dict_permutation(arities, c_candidates, z3z3z3, all_points)\n",
        "d_permutations = portrait.to_dict_permutation(arities, d_candidates, z3z3z3, all_points)"
      ]
    },
    {
      "cell_type": "code",
      "execution_count": 27,
      "id": "31b7e2cf-1ce7-43de-84a4-cf10f669c05c",
      "metadata": {
        "colab": {
          "base_uri": "https://localhost:8080/"
        },
        "id": "31b7e2cf-1ce7-43de-84a4-cf10f669c05c",
        "outputId": "12b3dc32-ee64-4168-c8de-9d0570139cf0"
      },
      "outputs": [
        {
          "output_type": "stream",
          "name": "stdout",
          "text": [
            "Selected pair: 31365273\n",
            "20517 5156\n"
          ]
        }
      ],
      "source": [
        "# Select a random pair C, D\n",
        "pair_index = random.randrange(0, len(valid_indexes_c))\n",
        "print(\"Selected pair:\", pair_index)\n",
        "\n",
        "c_idx = valid_indexes_c[pair_index]\n",
        "d_idx = valid_indexes_d[pair_index]\n",
        "\n",
        "print(c_idx, d_idx)\n",
        "\n",
        "C = c_permutations[c_idx]\n",
        "D = d_permutations[d_idx]"
      ]
    },
    {
      "cell_type": "code",
      "execution_count": 28,
      "id": "0ca1390d-d9a0-408d-8257-cbbda7cf2e75",
      "metadata": {
        "colab": {
          "base_uri": "https://localhost:8080/"
        },
        "id": "0ca1390d-d9a0-408d-8257-cbbda7cf2e75",
        "outputId": "470706fc-c239-4b0e-c713-80e14a012c15"
      },
      "outputs": [
        {
          "output_type": "stream",
          "name": "stdout",
          "text": [
            "C: [0 2 0 1 0 0 0 1 2 0 2 0 1]\n",
            "D: [0 0 2 2 2 1 1 2 2 2 0 0 0]\n"
          ]
        }
      ],
      "source": [
        "# portraits\n",
        "print(\"C:\", c_candidates[c_idx])\n",
        "print(\"D:\", d_candidates[d_idx])"
      ]
    },
    {
      "cell_type": "code",
      "execution_count": 29,
      "id": "8070d54b-4e81-43ad-a349-acabbeb05504",
      "metadata": {
        "colab": {
          "base_uri": "https://localhost:8080/"
        },
        "id": "8070d54b-4e81-43ad-a349-acabbeb05504",
        "outputId": "fef943a6-45b4-45ed-df30-365d68971c87"
      },
      "outputs": [
        {
          "output_type": "execute_result",
          "data": {
            "text/plain": [
              "3"
            ]
          },
          "metadata": {},
          "execution_count": 29
        }
      ],
      "source": [
        "# Check order of C\n",
        "C.order"
      ]
    },
    {
      "cell_type": "code",
      "execution_count": 30,
      "id": "d6536a14-f2d5-408f-bd48-3b02f3daffbe",
      "metadata": {
        "colab": {
          "base_uri": "https://localhost:8080/"
        },
        "id": "d6536a14-f2d5-408f-bd48-3b02f3daffbe",
        "outputId": "d0088bad-623c-463b-bd12-83a666490f5e"
      },
      "outputs": [
        {
          "output_type": "execute_result",
          "data": {
            "text/plain": [
              "3"
            ]
          },
          "metadata": {},
          "execution_count": 30
        }
      ],
      "source": [
        "# Check order of D\n",
        "D.order"
      ]
    },
    {
      "cell_type": "code",
      "execution_count": 31,
      "id": "12435ef0-3fbc-47df-a0b4-29a81b6ad37c",
      "metadata": {
        "colab": {
          "base_uri": "https://localhost:8080/"
        },
        "id": "12435ef0-3fbc-47df-a0b4-29a81b6ad37c",
        "outputId": "a7cd95c3-aad4-408f-e86b-2adcf51b1bb1"
      },
      "outputs": [
        {
          "output_type": "stream",
          "name": "stdout",
          "text": [
            "(0, 0, 0) -> (0, 2, 0)\n",
            "(0, 0, 1) -> (0, 2, 1)\n",
            "(0, 0, 2) -> (0, 2, 2)\n",
            "(0, 1, 0) -> (0, 0, 0)\n",
            "(0, 1, 1) -> (0, 0, 1)\n",
            "(0, 1, 2) -> (0, 0, 2)\n",
            "(0, 2, 0) -> (0, 1, 0)\n",
            "(0, 2, 1) -> (0, 1, 1)\n",
            "(0, 2, 2) -> (0, 1, 2)\n",
            "(1, 0, 0) -> (1, 0, 1)\n",
            "(1, 0, 1) -> (1, 0, 2)\n",
            "(1, 0, 2) -> (1, 0, 0)\n",
            "(1, 1, 0) -> (1, 1, 2)\n",
            "(1, 1, 1) -> (1, 1, 0)\n",
            "(1, 1, 2) -> (1, 1, 1)\n",
            "(1, 2, 0) -> (1, 2, 0)\n",
            "(1, 2, 1) -> (1, 2, 1)\n",
            "(1, 2, 2) -> (1, 2, 2)\n",
            "(2, 0, 0) -> (2, 1, 2)\n",
            "(2, 0, 1) -> (2, 1, 0)\n",
            "(2, 0, 2) -> (2, 1, 1)\n",
            "(2, 1, 0) -> (2, 2, 0)\n",
            "(2, 1, 1) -> (2, 2, 1)\n",
            "(2, 1, 2) -> (2, 2, 2)\n",
            "(2, 2, 0) -> (2, 0, 1)\n",
            "(2, 2, 1) -> (2, 0, 2)\n",
            "(2, 2, 2) -> (2, 0, 0)\n"
          ]
        }
      ],
      "source": [
        "# Full view of C\n",
        "column_print(C)"
      ]
    },
    {
      "cell_type": "code",
      "execution_count": 32,
      "id": "0d3c9d8a-9147-4fcc-b06f-3dc0f317a237",
      "metadata": {
        "colab": {
          "base_uri": "https://localhost:8080/"
        },
        "id": "0d3c9d8a-9147-4fcc-b06f-3dc0f317a237",
        "outputId": "77835dc5-aed5-4611-ca5e-a51eda0046f3"
      },
      "outputs": [
        {
          "output_type": "stream",
          "name": "stdout",
          "text": [
            "(0, 0, 0) -> (0, 0, 2)\n",
            "(0, 0, 1) -> (0, 0, 0)\n",
            "(0, 0, 2) -> (0, 0, 1)\n",
            "(0, 1, 0) -> (0, 1, 1)\n",
            "(0, 1, 1) -> (0, 1, 2)\n",
            "(0, 1, 2) -> (0, 1, 0)\n",
            "(0, 2, 0) -> (0, 2, 1)\n",
            "(0, 2, 1) -> (0, 2, 2)\n",
            "(0, 2, 2) -> (0, 2, 0)\n",
            "(1, 0, 0) -> (1, 2, 2)\n",
            "(1, 0, 1) -> (1, 2, 0)\n",
            "(1, 0, 2) -> (1, 2, 1)\n",
            "(1, 1, 0) -> (1, 0, 2)\n",
            "(1, 1, 1) -> (1, 0, 0)\n",
            "(1, 1, 2) -> (1, 0, 1)\n",
            "(1, 2, 0) -> (1, 1, 2)\n",
            "(1, 2, 1) -> (1, 1, 0)\n",
            "(1, 2, 2) -> (1, 1, 1)\n",
            "(2, 0, 0) -> (2, 2, 0)\n",
            "(2, 0, 1) -> (2, 2, 1)\n",
            "(2, 0, 2) -> (2, 2, 2)\n",
            "(2, 1, 0) -> (2, 0, 0)\n",
            "(2, 1, 1) -> (2, 0, 1)\n",
            "(2, 1, 2) -> (2, 0, 2)\n",
            "(2, 2, 0) -> (2, 1, 0)\n",
            "(2, 2, 1) -> (2, 1, 1)\n",
            "(2, 2, 2) -> (2, 1, 2)\n"
          ]
        }
      ],
      "source": [
        "# Full view of D\n",
        "column_print(D)"
      ]
    },
    {
      "cell_type": "code",
      "execution_count": 33,
      "id": "c41bada8-d5dc-4e34-be6d-e50e42fa1bf4",
      "metadata": {
        "colab": {
          "base_uri": "https://localhost:8080/"
        },
        "id": "c41bada8-d5dc-4e34-be6d-e50e42fa1bf4",
        "outputId": "9be30820-8ed5-4ca2-8686-9b56fcb21c68"
      },
      "outputs": [
        {
          "output_type": "execute_result",
          "data": {
            "text/plain": [
              "[(1, 2, 0), (1, 2, 1), (1, 2, 2)]"
            ]
          },
          "metadata": {},
          "execution_count": 33
        }
      ],
      "source": [
        "C.fixed_points()"
      ]
    },
    {
      "cell_type": "code",
      "execution_count": 34,
      "id": "f5b87b14-31aa-4ff2-97b8-dff3542a01c3",
      "metadata": {
        "colab": {
          "base_uri": "https://localhost:8080/"
        },
        "id": "f5b87b14-31aa-4ff2-97b8-dff3542a01c3",
        "outputId": "eb44382f-b78e-42c8-e447-324e1f86ee8b"
      },
      "outputs": [
        {
          "output_type": "execute_result",
          "data": {
            "text/plain": [
              "[]"
            ]
          },
          "metadata": {},
          "execution_count": 34
        }
      ],
      "source": [
        "D.fixed_points()"
      ]
    },
    {
      "cell_type": "code",
      "execution_count": 35,
      "id": "254fb629-1edf-44c9-9391-dfca35981f43",
      "metadata": {
        "colab": {
          "base_uri": "https://localhost:8080/"
        },
        "id": "254fb629-1edf-44c9-9391-dfca35981f43",
        "outputId": "bbed4a04-3b18-480c-b791-c83dcb4e3026"
      },
      "outputs": [
        {
          "output_type": "execute_result",
          "data": {
            "text/plain": [
              "[(1, 2, 0), (1, 1, 2), (1, 0, 1)]"
            ]
          },
          "metadata": {},
          "execution_count": 35
        }
      ],
      "source": [
        "cyc_1 = get_cycle(D, C.fixed_points()[0])\n",
        "cyc_1"
      ]
    },
    {
      "cell_type": "code",
      "execution_count": 36,
      "id": "322734db-e672-4f81-ab3f-29068d0c34c2",
      "metadata": {
        "colab": {
          "base_uri": "https://localhost:8080/"
        },
        "id": "322734db-e672-4f81-ab3f-29068d0c34c2",
        "outputId": "63f41d03-eca7-42e0-d0db-2614cc4490f4"
      },
      "outputs": [
        {
          "output_type": "execute_result",
          "data": {
            "text/plain": [
              "[(1, 2, 1), (1, 1, 0), (1, 0, 2)]"
            ]
          },
          "metadata": {},
          "execution_count": 36
        }
      ],
      "source": [
        "cyc_2 = get_cycle(D, C.fixed_points()[1])\n",
        "cyc_2"
      ]
    },
    {
      "cell_type": "code",
      "execution_count": 37,
      "id": "d9d70354-63de-484c-9058-c7134a7a8be9",
      "metadata": {
        "colab": {
          "base_uri": "https://localhost:8080/"
        },
        "id": "d9d70354-63de-484c-9058-c7134a7a8be9",
        "outputId": "b796e940-94d5-407a-85f4-7b113668290b"
      },
      "outputs": [
        {
          "output_type": "execute_result",
          "data": {
            "text/plain": [
              "[(1, 2, 2), (1, 1, 1), (1, 0, 0)]"
            ]
          },
          "metadata": {},
          "execution_count": 37
        }
      ],
      "source": [
        "cyc_3 = get_cycle(D, C.fixed_points()[2])\n",
        "cyc_3"
      ]
    },
    {
      "cell_type": "code",
      "execution_count": 38,
      "id": "0a110d81-5b8a-43f1-91c8-478272237bf1",
      "metadata": {
        "colab": {
          "base_uri": "https://localhost:8080/"
        },
        "id": "0a110d81-5b8a-43f1-91c8-478272237bf1",
        "outputId": "14740782-b9ff-4b29-c17a-223df9b59cf7"
      },
      "outputs": [
        {
          "output_type": "execute_result",
          "data": {
            "text/plain": [
              "set()"
            ]
          },
          "metadata": {},
          "execution_count": 38
        }
      ],
      "source": [
        "# fixed points of C are in the different cycles of D\n",
        "set(cyc_1).intersection(set(cyc_2)).intersection(set(cyc_3))"
      ]
    },
    {
      "cell_type": "code",
      "execution_count": 39,
      "id": "eb508a9b-94bf-4a24-a702-3cf87979b297",
      "metadata": {
        "colab": {
          "base_uri": "https://localhost:8080/"
        },
        "id": "eb508a9b-94bf-4a24-a702-3cf87979b297",
        "outputId": "63c5e1eb-bdbe-425b-a78d-119ea6e52fc5"
      },
      "outputs": [
        {
          "output_type": "execute_result",
          "data": {
            "text/plain": [
              "True"
            ]
          },
          "metadata": {},
          "execution_count": 39
        }
      ],
      "source": [
        "# conjugation check\n",
        "D * (C.inverse() * D * C) == (C.inverse() * D * C) * D"
      ]
    },
    {
      "cell_type": "code",
      "execution_count": 40,
      "id": "ef1003a3-574d-46c9-ad54-c3dba229fd14",
      "metadata": {
        "colab": {
          "base_uri": "https://localhost:8080/"
        },
        "id": "ef1003a3-574d-46c9-ad54-c3dba229fd14",
        "outputId": "188b62ac-1967-4ff6-a726-c155d2507a11"
      },
      "outputs": [
        {
          "output_type": "stream",
          "name": "stdout",
          "text": [
            "(0, 0, 0) -> (0, 0, 1)\n",
            "(0, 0, 1) -> (0, 0, 2)\n",
            "(0, 0, 2) -> (0, 0, 0)\n",
            "(0, 1, 0) -> (0, 1, 1)\n",
            "(0, 1, 1) -> (0, 1, 2)\n",
            "(0, 1, 2) -> (0, 1, 0)\n",
            "(0, 2, 0) -> (0, 2, 1)\n",
            "(0, 2, 1) -> (0, 2, 2)\n",
            "(0, 2, 2) -> (0, 2, 0)\n",
            "(1, 0, 0) -> (1, 0, 0)\n",
            "(1, 0, 1) -> (1, 0, 1)\n",
            "(1, 0, 2) -> (1, 0, 2)\n",
            "(1, 1, 0) -> (1, 1, 0)\n",
            "(1, 1, 1) -> (1, 1, 1)\n",
            "(1, 1, 2) -> (1, 1, 2)\n",
            "(1, 2, 0) -> (1, 2, 0)\n",
            "(1, 2, 1) -> (1, 2, 1)\n",
            "(1, 2, 2) -> (1, 2, 2)\n",
            "(2, 0, 0) -> (2, 0, 0)\n",
            "(2, 0, 1) -> (2, 0, 1)\n",
            "(2, 0, 2) -> (2, 0, 2)\n",
            "(2, 1, 0) -> (2, 1, 0)\n",
            "(2, 1, 1) -> (2, 1, 1)\n",
            "(2, 1, 2) -> (2, 1, 2)\n",
            "(2, 2, 0) -> (2, 2, 0)\n",
            "(2, 2, 1) -> (2, 2, 1)\n",
            "(2, 2, 2) -> (2, 2, 2)\n",
            "---- Non trival elements ----\n",
            "(0, 0, 0) -> (0, 0, 1)\n",
            "(0, 0, 1) -> (0, 0, 2)\n",
            "(0, 0, 2) -> (0, 0, 0)\n",
            "(0, 1, 0) -> (0, 1, 1)\n",
            "(0, 1, 1) -> (0, 1, 2)\n",
            "(0, 1, 2) -> (0, 1, 0)\n",
            "(0, 2, 0) -> (0, 2, 1)\n",
            "(0, 2, 1) -> (0, 2, 2)\n",
            "(0, 2, 2) -> (0, 2, 0)\n"
          ]
        }
      ],
      "source": [
        "#  (d * c ^2) ^ 3\n",
        "# check if not trivial\n",
        "# Note: the ** power operation is reserved for action of permutation on a point (see: get_cycle fn on top)\n",
        "dc23 = (D * (C * C)) * (D * (C * C)) * (D * (C * C))\n",
        "column_print(dc23)\n",
        "\n",
        "print(\"---- Non trival elements ----\")\n",
        "for k, v in sorted(dc23.rule.items()):\n",
        "    if k != v:\n",
        "        print(f\"{k} -> {v}\")"
      ]
    },
    {
      "cell_type": "code",
      "execution_count": 41,
      "id": "fa0ef45a-3cc1-49c0-9382-4abe234a912c",
      "metadata": {
        "colab": {
          "base_uri": "https://localhost:8080/"
        },
        "id": "fa0ef45a-3cc1-49c0-9382-4abe234a912c",
        "outputId": "8f40a59e-bdd1-43ca-f8cd-bc1090bf451a"
      },
      "outputs": [
        {
          "output_type": "stream",
          "name": "stderr",
          "text": [
            "/usr/local/lib/python3.10/dist-packages/wrepy/main.py:196: UserWarning: Current implementation of generator set factory uses a lot of memory & doen't stop for infinite group.\n",
            "  warn(\n"
          ]
        },
        {
          "output_type": "execute_result",
          "data": {
            "text/plain": [
              "PermutationGroup(order=81)"
            ]
          },
          "metadata": {},
          "execution_count": 41
        }
      ],
      "source": [
        "# check group order\n",
        "target_group = PermutationGroup(\n",
        "    z3z3z3.underlying_set,\n",
        "    GeneratorSetFactory,\n",
        "    generator_set=([C.rule, D.rule]),\n",
        ")\n",
        "target_group"
      ]
    },
    {
      "cell_type": "code",
      "execution_count": 42,
      "id": "f70384ed-31aa-4123-8ede-e9b5160b3aa4",
      "metadata": {
        "colab": {
          "base_uri": "https://localhost:8080/"
        },
        "id": "f70384ed-31aa-4123-8ede-e9b5160b3aa4",
        "outputId": "ce908d48-21e4-4cc3-f78c-bdb100964945"
      },
      "outputs": [
        {
          "output_type": "stream",
          "name": "stdout",
          "text": [
            "(0, 0, 0) -> (0, 2, 2)\n",
            "(0, 0, 1) -> (0, 2, 0)\n",
            "(0, 0, 2) -> (0, 2, 1)\n",
            "(0, 1, 0) -> (0, 0, 0)\n",
            "(0, 1, 1) -> (0, 0, 1)\n",
            "(0, 1, 2) -> (0, 0, 2)\n",
            "(0, 2, 0) -> (0, 1, 2)\n",
            "(0, 2, 1) -> (0, 1, 0)\n",
            "(0, 2, 2) -> (0, 1, 1)\n",
            "(1, 0, 0) -> (1, 2, 0)\n",
            "(1, 0, 1) -> (1, 2, 1)\n",
            "(1, 0, 2) -> (1, 2, 2)\n",
            "(1, 1, 0) -> (1, 0, 1)\n",
            "(1, 1, 1) -> (1, 0, 2)\n",
            "(1, 1, 2) -> (1, 0, 0)\n",
            "(1, 2, 0) -> (1, 1, 2)\n",
            "(1, 2, 1) -> (1, 1, 0)\n",
            "(1, 2, 2) -> (1, 1, 1)\n",
            "(2, 0, 0) -> (2, 0, 2)\n",
            "(2, 0, 1) -> (2, 0, 0)\n",
            "(2, 0, 2) -> (2, 0, 1)\n",
            "(2, 1, 0) -> (2, 1, 0)\n",
            "(2, 1, 1) -> (2, 1, 1)\n",
            "(2, 1, 2) -> (2, 1, 2)\n",
            "(2, 2, 0) -> (2, 2, 1)\n",
            "(2, 2, 1) -> (2, 2, 2)\n",
            "(2, 2, 2) -> (2, 2, 0)\n"
          ]
        }
      ],
      "source": [
        "# The elements of a relust group can also be examied if required\n",
        "\n",
        "target_elements = list(target_group.elements)\n",
        "column_print(target_elements[80])"
      ]
    }
  ],
  "metadata": {
    "kernelspec": {
      "display_name": "Python 3",
      "name": "python3"
    },
    "language_info": {
      "name": "python"
    },
    "colab": {
      "provenance": [],
      "gpuType": "T4"
    },
    "accelerator": "GPU",
    "widgets": {
      "application/vnd.jupyter.widget-state+json": {
        "ca970877929b4c1bb42b7ece46278fc8": {
          "model_module": "@jupyter-widgets/controls",
          "model_name": "HBoxModel",
          "model_module_version": "1.5.0",
          "state": {
            "_dom_classes": [],
            "_model_module": "@jupyter-widgets/controls",
            "_model_module_version": "1.5.0",
            "_model_name": "HBoxModel",
            "_view_count": null,
            "_view_module": "@jupyter-widgets/controls",
            "_view_module_version": "1.5.0",
            "_view_name": "HBoxView",
            "box_style": "",
            "children": [
              "IPY_MODEL_a85b0e5217f5446b8c18cca695798b11",
              "IPY_MODEL_bd67a51eee61419a944ad212efbfe22b",
              "IPY_MODEL_b365162c99b44ec485651e6120817100"
            ],
            "layout": "IPY_MODEL_b05b28dad143411eb8b500c83cb2c1e8"
          }
        },
        "a85b0e5217f5446b8c18cca695798b11": {
          "model_module": "@jupyter-widgets/controls",
          "model_name": "HTMLModel",
          "model_module_version": "1.5.0",
          "state": {
            "_dom_classes": [],
            "_model_module": "@jupyter-widgets/controls",
            "_model_module_version": "1.5.0",
            "_model_name": "HTMLModel",
            "_view_count": null,
            "_view_module": "@jupyter-widgets/controls",
            "_view_module_version": "1.5.0",
            "_view_name": "HTMLView",
            "description": "",
            "description_tooltip": null,
            "layout": "IPY_MODEL_373862abc26a47e5a3fed0bfa731ab21",
            "placeholder": "​",
            "style": "IPY_MODEL_40188fad36424c23895d2af980ddad0a",
            "value": "100%"
          }
        },
        "bd67a51eee61419a944ad212efbfe22b": {
          "model_module": "@jupyter-widgets/controls",
          "model_name": "FloatProgressModel",
          "model_module_version": "1.5.0",
          "state": {
            "_dom_classes": [],
            "_model_module": "@jupyter-widgets/controls",
            "_model_module_version": "1.5.0",
            "_model_name": "FloatProgressModel",
            "_view_count": null,
            "_view_module": "@jupyter-widgets/controls",
            "_view_module_version": "1.5.0",
            "_view_name": "ProgressView",
            "bar_style": "success",
            "description": "",
            "description_tooltip": null,
            "layout": "IPY_MODEL_c0ffab592d4b4cfabd55f31e473e9f37",
            "max": 180,
            "min": 0,
            "orientation": "horizontal",
            "style": "IPY_MODEL_f598c90bc0bf4a54b9462419adddd542",
            "value": 180
          }
        },
        "b365162c99b44ec485651e6120817100": {
          "model_module": "@jupyter-widgets/controls",
          "model_name": "HTMLModel",
          "model_module_version": "1.5.0",
          "state": {
            "_dom_classes": [],
            "_model_module": "@jupyter-widgets/controls",
            "_model_module_version": "1.5.0",
            "_model_name": "HTMLModel",
            "_view_count": null,
            "_view_module": "@jupyter-widgets/controls",
            "_view_module_version": "1.5.0",
            "_view_name": "HTMLView",
            "description": "",
            "description_tooltip": null,
            "layout": "IPY_MODEL_db0ea4fd6901453a9c52da7237f63f62",
            "placeholder": "​",
            "style": "IPY_MODEL_56d00072a7f44cf1881f090c72e590ed",
            "value": " 180/180 [01:14&lt;00:00,  2.16it/s]"
          }
        },
        "b05b28dad143411eb8b500c83cb2c1e8": {
          "model_module": "@jupyter-widgets/base",
          "model_name": "LayoutModel",
          "model_module_version": "1.2.0",
          "state": {
            "_model_module": "@jupyter-widgets/base",
            "_model_module_version": "1.2.0",
            "_model_name": "LayoutModel",
            "_view_count": null,
            "_view_module": "@jupyter-widgets/base",
            "_view_module_version": "1.2.0",
            "_view_name": "LayoutView",
            "align_content": null,
            "align_items": null,
            "align_self": null,
            "border": null,
            "bottom": null,
            "display": null,
            "flex": null,
            "flex_flow": null,
            "grid_area": null,
            "grid_auto_columns": null,
            "grid_auto_flow": null,
            "grid_auto_rows": null,
            "grid_column": null,
            "grid_gap": null,
            "grid_row": null,
            "grid_template_areas": null,
            "grid_template_columns": null,
            "grid_template_rows": null,
            "height": null,
            "justify_content": null,
            "justify_items": null,
            "left": null,
            "margin": null,
            "max_height": null,
            "max_width": null,
            "min_height": null,
            "min_width": null,
            "object_fit": null,
            "object_position": null,
            "order": null,
            "overflow": null,
            "overflow_x": null,
            "overflow_y": null,
            "padding": null,
            "right": null,
            "top": null,
            "visibility": null,
            "width": null
          }
        },
        "373862abc26a47e5a3fed0bfa731ab21": {
          "model_module": "@jupyter-widgets/base",
          "model_name": "LayoutModel",
          "model_module_version": "1.2.0",
          "state": {
            "_model_module": "@jupyter-widgets/base",
            "_model_module_version": "1.2.0",
            "_model_name": "LayoutModel",
            "_view_count": null,
            "_view_module": "@jupyter-widgets/base",
            "_view_module_version": "1.2.0",
            "_view_name": "LayoutView",
            "align_content": null,
            "align_items": null,
            "align_self": null,
            "border": null,
            "bottom": null,
            "display": null,
            "flex": null,
            "flex_flow": null,
            "grid_area": null,
            "grid_auto_columns": null,
            "grid_auto_flow": null,
            "grid_auto_rows": null,
            "grid_column": null,
            "grid_gap": null,
            "grid_row": null,
            "grid_template_areas": null,
            "grid_template_columns": null,
            "grid_template_rows": null,
            "height": null,
            "justify_content": null,
            "justify_items": null,
            "left": null,
            "margin": null,
            "max_height": null,
            "max_width": null,
            "min_height": null,
            "min_width": null,
            "object_fit": null,
            "object_position": null,
            "order": null,
            "overflow": null,
            "overflow_x": null,
            "overflow_y": null,
            "padding": null,
            "right": null,
            "top": null,
            "visibility": null,
            "width": null
          }
        },
        "40188fad36424c23895d2af980ddad0a": {
          "model_module": "@jupyter-widgets/controls",
          "model_name": "DescriptionStyleModel",
          "model_module_version": "1.5.0",
          "state": {
            "_model_module": "@jupyter-widgets/controls",
            "_model_module_version": "1.5.0",
            "_model_name": "DescriptionStyleModel",
            "_view_count": null,
            "_view_module": "@jupyter-widgets/base",
            "_view_module_version": "1.2.0",
            "_view_name": "StyleView",
            "description_width": ""
          }
        },
        "c0ffab592d4b4cfabd55f31e473e9f37": {
          "model_module": "@jupyter-widgets/base",
          "model_name": "LayoutModel",
          "model_module_version": "1.2.0",
          "state": {
            "_model_module": "@jupyter-widgets/base",
            "_model_module_version": "1.2.0",
            "_model_name": "LayoutModel",
            "_view_count": null,
            "_view_module": "@jupyter-widgets/base",
            "_view_module_version": "1.2.0",
            "_view_name": "LayoutView",
            "align_content": null,
            "align_items": null,
            "align_self": null,
            "border": null,
            "bottom": null,
            "display": null,
            "flex": null,
            "flex_flow": null,
            "grid_area": null,
            "grid_auto_columns": null,
            "grid_auto_flow": null,
            "grid_auto_rows": null,
            "grid_column": null,
            "grid_gap": null,
            "grid_row": null,
            "grid_template_areas": null,
            "grid_template_columns": null,
            "grid_template_rows": null,
            "height": null,
            "justify_content": null,
            "justify_items": null,
            "left": null,
            "margin": null,
            "max_height": null,
            "max_width": null,
            "min_height": null,
            "min_width": null,
            "object_fit": null,
            "object_position": null,
            "order": null,
            "overflow": null,
            "overflow_x": null,
            "overflow_y": null,
            "padding": null,
            "right": null,
            "top": null,
            "visibility": null,
            "width": null
          }
        },
        "f598c90bc0bf4a54b9462419adddd542": {
          "model_module": "@jupyter-widgets/controls",
          "model_name": "ProgressStyleModel",
          "model_module_version": "1.5.0",
          "state": {
            "_model_module": "@jupyter-widgets/controls",
            "_model_module_version": "1.5.0",
            "_model_name": "ProgressStyleModel",
            "_view_count": null,
            "_view_module": "@jupyter-widgets/base",
            "_view_module_version": "1.2.0",
            "_view_name": "StyleView",
            "bar_color": null,
            "description_width": ""
          }
        },
        "db0ea4fd6901453a9c52da7237f63f62": {
          "model_module": "@jupyter-widgets/base",
          "model_name": "LayoutModel",
          "model_module_version": "1.2.0",
          "state": {
            "_model_module": "@jupyter-widgets/base",
            "_model_module_version": "1.2.0",
            "_model_name": "LayoutModel",
            "_view_count": null,
            "_view_module": "@jupyter-widgets/base",
            "_view_module_version": "1.2.0",
            "_view_name": "LayoutView",
            "align_content": null,
            "align_items": null,
            "align_self": null,
            "border": null,
            "bottom": null,
            "display": null,
            "flex": null,
            "flex_flow": null,
            "grid_area": null,
            "grid_auto_columns": null,
            "grid_auto_flow": null,
            "grid_auto_rows": null,
            "grid_column": null,
            "grid_gap": null,
            "grid_row": null,
            "grid_template_areas": null,
            "grid_template_columns": null,
            "grid_template_rows": null,
            "height": null,
            "justify_content": null,
            "justify_items": null,
            "left": null,
            "margin": null,
            "max_height": null,
            "max_width": null,
            "min_height": null,
            "min_width": null,
            "object_fit": null,
            "object_position": null,
            "order": null,
            "overflow": null,
            "overflow_x": null,
            "overflow_y": null,
            "padding": null,
            "right": null,
            "top": null,
            "visibility": null,
            "width": null
          }
        },
        "56d00072a7f44cf1881f090c72e590ed": {
          "model_module": "@jupyter-widgets/controls",
          "model_name": "DescriptionStyleModel",
          "model_module_version": "1.5.0",
          "state": {
            "_model_module": "@jupyter-widgets/controls",
            "_model_module_version": "1.5.0",
            "_model_name": "DescriptionStyleModel",
            "_view_count": null,
            "_view_module": "@jupyter-widgets/base",
            "_view_module_version": "1.2.0",
            "_view_name": "StyleView",
            "description_width": ""
          }
        }
      }
    }
  },
  "nbformat": 4,
  "nbformat_minor": 5
}