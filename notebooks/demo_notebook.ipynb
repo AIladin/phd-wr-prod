{
 "cells": [
  {
   "cell_type": "markdown",
   "id": "3d2364b6-77b7-4a34-88ff-2ae05fe2a78f",
   "metadata": {},
   "source": [
    "# Demo for $\\mathbf{Z}_3 \\wr \\mathbf{Z}_3 \\wr \\mathbf{Z}_3$"
   ]
  },
  {
   "cell_type": "code",
   "execution_count": 1,
   "id": "5586c99d-dcde-4464-9891-7165d7c5c62b",
   "metadata": {},
   "outputs": [],
   "source": [
    "import itertools\n",
    "import pickle\n",
    "import random\n",
    "\n",
    "import numpy as np\n",
    "import scipy\n",
    "from tqdm.auto import tqdm\n",
    "\n",
    "from wrepy import (\n",
    "    ArrayWrPermutation,\n",
    "    CyclicGroupPermutationFactory,\n",
    "    GeneratorSetFactory,\n",
    "    Permutation,\n",
    "    PermutationGroup,\n",
    "    Portrait,\n",
    ")"
   ]
  },
  {
   "cell_type": "markdown",
   "id": "2e8d09f6-2143-449b-95f2-e6cb9962a1d0",
   "metadata": {},
   "source": [
    "## Util functions"
   ]
  },
  {
   "cell_type": "code",
   "execution_count": 2,
   "id": "b4092eec-5196-4bec-aa8c-7694797e172f",
   "metadata": {},
   "outputs": [],
   "source": [
    "def column_print(p: Permutation):\n",
    "    for k, v in sorted(p.rule.items()):\n",
    "        print(f\"{k} -> {v}\")"
   ]
  },
  {
   "cell_type": "code",
   "execution_count": 28,
   "id": "49dbf123-f685-4b9f-ac1b-cdd68bd3b63a",
   "metadata": {},
   "outputs": [],
   "source": [
    "def get_cycle(p: Permutation, v: tuple[int, int, int]) -> list[tuple[int, int, int]]:\n",
    "    cycle = []\n",
    "    while v not in cycle:\n",
    "        cycle.append(v)\n",
    "        v = v ** p\n",
    "    return cycle"
   ]
  },
  {
   "cell_type": "markdown",
   "id": "aeaed58f-67ed-482b-8a72-25f6be6d0ac5",
   "metadata": {},
   "source": [
    "## Data preparation"
   ]
  },
  {
   "cell_type": "code",
   "execution_count": 3,
   "id": "262e520c-0938-4f1e-b152-7a2751c349da",
   "metadata": {},
   "outputs": [
    {
     "data": {
      "text/plain": [
       "PermutationGroup(order=1594323)"
      ]
     },
     "execution_count": 3,
     "metadata": {},
     "output_type": "execute_result"
    }
   ],
   "source": [
    "N = 3\n",
    "z3 = PermutationGroup(\n",
    "    set(range(N)),  # define the underling set as {0, 1, 2}\n",
    "    CyclicGroupPermutationFactory,  # setting the rule how to build group from underling set\n",
    ")\n",
    "z3z3 = z3.wreath_product(z3)\n",
    "z3z3z3 = z3z3.wreath_product(z3)\n",
    "z3z3z3"
   ]
  },
  {
   "cell_type": "code",
   "execution_count": 4,
   "id": "7b187d54-d78f-4ec4-823c-e53aabf5dc1f",
   "metadata": {},
   "outputs": [
    {
     "data": {
      "application/vnd.jupyter.widget-view+json": {
       "model_id": "d2cffa6b2a3d4498aaf6cab907984be3",
       "version_major": 2,
       "version_minor": 0
      },
      "text/plain": [
       "  0%|          | 0/1594323 [00:00<?, ?it/s]"
      ]
     },
     "metadata": {},
     "output_type": "display_data"
    }
   ],
   "source": [
    "# eagerly collecting all elements\n",
    "elements = list(tqdm(z3z3z3.elements))"
   ]
  },
  {
   "cell_type": "code",
   "execution_count": 5,
   "id": "ee86e9eb-b6b0-4304-963e-7feb689d985d",
   "metadata": {},
   "outputs": [
    {
     "data": {
      "text/plain": [
       "104246"
      ]
     },
     "execution_count": 5,
     "metadata": {},
     "output_type": "execute_result"
    }
   ],
   "source": [
    "order_3_elements_mask = np.load(\n",
    "    \"../z3z3z3_order_3.npy\"\n",
    ")  # a mask for each element of group True if the element has order 3\n",
    "# applying a mask to elements\n",
    "elements = list(itertools.compress(elements, order_3_elements_mask))\n",
    "len(elements)"
   ]
  },
  {
   "cell_type": "code",
   "execution_count": 6,
   "id": "7caa2bb8-2a6e-47f4-9b53-c58be1e5c86f",
   "metadata": {},
   "outputs": [],
   "source": [
    "alpha = list(z3.elements)\n",
    "alpha = [alpha[-1], alpha[0], alpha[1]]"
   ]
  },
  {
   "cell_type": "code",
   "execution_count": 7,
   "id": "2739ed58-f1df-4e39-b6b5-2077ceec7fd2",
   "metadata": {},
   "outputs": [],
   "source": [
    "result_index = scipy.sparse.load_npz(\"../sparse_res.npz\")\n",
    "valid_pairs_ids = result_index.nonzero()"
   ]
  },
  {
   "cell_type": "code",
   "execution_count": 8,
   "id": "b8323198-0b9f-464f-9bd3-6e49c429d3a3",
   "metadata": {},
   "outputs": [
    {
     "data": {
      "text/plain": [
       "<104246x104246 sparse matrix of type '<class 'numpy.bool_'>'\n",
       "\twith 40223304 stored elements in Compressed Sparse Column format>"
      ]
     },
     "execution_count": 8,
     "metadata": {},
     "output_type": "execute_result"
    }
   ],
   "source": [
    "result_index"
   ]
  },
  {
   "cell_type": "code",
   "execution_count": 9,
   "id": "1b487b4c-77ae-4085-b52d-bef7211fdc9c",
   "metadata": {},
   "outputs": [],
   "source": [
    "def get_pair(index: int) -> tuple[Permutation, Permutation]:\n",
    "    \"\"\"Returns a C, D pair of generator elements\"\"\"\n",
    "    c_idx = valid_pairs_ids[0][index]\n",
    "    d_idx = valid_pairs_ids[1][index]\n",
    "\n",
    "    C = elements[c_idx]\n",
    "    D = elements[d_idx]\n",
    "    return C, D"
   ]
  },
  {
   "cell_type": "markdown",
   "id": "843935e9-844b-4d04-8390-88952abc8b94",
   "metadata": {},
   "source": [
    "## Demo"
   ]
  },
  {
   "cell_type": "code",
   "execution_count": 73,
   "id": "31b7e2cf-1ce7-43de-84a4-cf10f669c05c",
   "metadata": {},
   "outputs": [
    {
     "name": "stdout",
     "output_type": "stream",
     "text": [
      "Selected pair: 39677726\n"
     ]
    }
   ],
   "source": [
    "# Select a random pair C, D\n",
    "pair_index = random.randrange(0, result_index.size)\n",
    "print(\"Selected pair:\",pair_index)\n",
    "C, D = get_pair(pair_index)"
   ]
  },
  {
   "cell_type": "code",
   "execution_count": 74,
   "id": "8070d54b-4e81-43ad-a349-acabbeb05504",
   "metadata": {},
   "outputs": [
    {
     "data": {
      "text/plain": [
       "3"
      ]
     },
     "execution_count": 74,
     "metadata": {},
     "output_type": "execute_result"
    }
   ],
   "source": [
    "# Check order of C\n",
    "C.order"
   ]
  },
  {
   "cell_type": "code",
   "execution_count": 75,
   "id": "d6536a14-f2d5-408f-bd48-3b02f3daffbe",
   "metadata": {},
   "outputs": [
    {
     "data": {
      "text/plain": [
       "3"
      ]
     },
     "execution_count": 75,
     "metadata": {},
     "output_type": "execute_result"
    }
   ],
   "source": [
    "# Check order of D\n",
    "D.order"
   ]
  },
  {
   "cell_type": "code",
   "execution_count": 76,
   "id": "12435ef0-3fbc-47df-a0b4-29a81b6ad37c",
   "metadata": {},
   "outputs": [
    {
     "name": "stdout",
     "output_type": "stream",
     "text": [
      "(0, 0, 0) -> (0, 2, 2)\n",
      "(0, 0, 1) -> (0, 2, 0)\n",
      "(0, 0, 2) -> (0, 2, 1)\n",
      "(0, 1, 0) -> (0, 0, 0)\n",
      "(0, 1, 1) -> (0, 0, 1)\n",
      "(0, 1, 2) -> (0, 0, 2)\n",
      "(0, 2, 0) -> (0, 1, 1)\n",
      "(0, 2, 1) -> (0, 1, 2)\n",
      "(0, 2, 2) -> (0, 1, 0)\n",
      "(1, 0, 0) -> (1, 1, 1)\n",
      "(1, 0, 1) -> (1, 1, 2)\n",
      "(1, 0, 2) -> (1, 1, 0)\n",
      "(1, 1, 0) -> (1, 2, 2)\n",
      "(1, 1, 1) -> (1, 2, 0)\n",
      "(1, 1, 2) -> (1, 2, 1)\n",
      "(1, 2, 0) -> (1, 0, 0)\n",
      "(1, 2, 1) -> (1, 0, 1)\n",
      "(1, 2, 2) -> (1, 0, 2)\n",
      "(2, 0, 0) -> (2, 0, 1)\n",
      "(2, 0, 1) -> (2, 0, 2)\n",
      "(2, 0, 2) -> (2, 0, 0)\n",
      "(2, 1, 0) -> (2, 1, 0)\n",
      "(2, 1, 1) -> (2, 1, 1)\n",
      "(2, 1, 2) -> (2, 1, 2)\n",
      "(2, 2, 0) -> (2, 2, 2)\n",
      "(2, 2, 1) -> (2, 2, 0)\n",
      "(2, 2, 2) -> (2, 2, 1)\n"
     ]
    }
   ],
   "source": [
    "# Full view of C\n",
    "column_print(C)"
   ]
  },
  {
   "cell_type": "code",
   "execution_count": 77,
   "id": "0d3c9d8a-9147-4fcc-b06f-3dc0f317a237",
   "metadata": {},
   "outputs": [
    {
     "name": "stdout",
     "output_type": "stream",
     "text": [
      "(0, 0, 0) -> (0, 0, 2)\n",
      "(0, 0, 1) -> (0, 0, 0)\n",
      "(0, 0, 2) -> (0, 0, 1)\n",
      "(0, 1, 0) -> (0, 1, 1)\n",
      "(0, 1, 1) -> (0, 1, 2)\n",
      "(0, 1, 2) -> (0, 1, 0)\n",
      "(0, 2, 0) -> (0, 2, 1)\n",
      "(0, 2, 1) -> (0, 2, 2)\n",
      "(0, 2, 2) -> (0, 2, 0)\n",
      "(1, 0, 0) -> (1, 2, 2)\n",
      "(1, 0, 1) -> (1, 2, 0)\n",
      "(1, 0, 2) -> (1, 2, 1)\n",
      "(1, 1, 0) -> (1, 0, 2)\n",
      "(1, 1, 1) -> (1, 0, 0)\n",
      "(1, 1, 2) -> (1, 0, 1)\n",
      "(1, 2, 0) -> (1, 1, 2)\n",
      "(1, 2, 1) -> (1, 1, 0)\n",
      "(1, 2, 2) -> (1, 1, 1)\n",
      "(2, 0, 0) -> (2, 2, 0)\n",
      "(2, 0, 1) -> (2, 2, 1)\n",
      "(2, 0, 2) -> (2, 2, 2)\n",
      "(2, 1, 0) -> (2, 0, 1)\n",
      "(2, 1, 1) -> (2, 0, 2)\n",
      "(2, 1, 2) -> (2, 0, 0)\n",
      "(2, 2, 0) -> (2, 1, 2)\n",
      "(2, 2, 1) -> (2, 1, 0)\n",
      "(2, 2, 2) -> (2, 1, 1)\n"
     ]
    }
   ],
   "source": [
    "# Full view of D\n",
    "column_print(D)"
   ]
  },
  {
   "cell_type": "code",
   "execution_count": 78,
   "id": "c41bada8-d5dc-4e34-be6d-e50e42fa1bf4",
   "metadata": {},
   "outputs": [
    {
     "data": {
      "text/plain": [
       "[(2, 1, 1), (2, 1, 2), (2, 1, 0)]"
      ]
     },
     "execution_count": 78,
     "metadata": {},
     "output_type": "execute_result"
    }
   ],
   "source": [
    "C.fixed_points()"
   ]
  },
  {
   "cell_type": "code",
   "execution_count": 79,
   "id": "f5b87b14-31aa-4ff2-97b8-dff3542a01c3",
   "metadata": {},
   "outputs": [
    {
     "data": {
      "text/plain": [
       "[]"
      ]
     },
     "execution_count": 79,
     "metadata": {},
     "output_type": "execute_result"
    }
   ],
   "source": [
    "D.fixed_points()"
   ]
  },
  {
   "cell_type": "code",
   "execution_count": 80,
   "id": "254fb629-1edf-44c9-9391-dfca35981f43",
   "metadata": {},
   "outputs": [
    {
     "data": {
      "text/plain": [
       "[(2, 1, 1), (2, 0, 2), (2, 2, 2)]"
      ]
     },
     "execution_count": 80,
     "metadata": {},
     "output_type": "execute_result"
    }
   ],
   "source": [
    "cyc_1 = get_cycle(D, C.fixed_points()[0])\n",
    "cyc_1"
   ]
  },
  {
   "cell_type": "code",
   "execution_count": 81,
   "id": "322734db-e672-4f81-ab3f-29068d0c34c2",
   "metadata": {},
   "outputs": [
    {
     "data": {
      "text/plain": [
       "[(2, 1, 2), (2, 0, 0), (2, 2, 0)]"
      ]
     },
     "execution_count": 81,
     "metadata": {},
     "output_type": "execute_result"
    }
   ],
   "source": [
    "cyc_2 = get_cycle(D, C.fixed_points()[1])\n",
    "cyc_2"
   ]
  },
  {
   "cell_type": "code",
   "execution_count": 82,
   "id": "d9d70354-63de-484c-9058-c7134a7a8be9",
   "metadata": {},
   "outputs": [
    {
     "data": {
      "text/plain": [
       "[(2, 1, 0), (2, 0, 1), (2, 2, 1)]"
      ]
     },
     "execution_count": 82,
     "metadata": {},
     "output_type": "execute_result"
    }
   ],
   "source": [
    "cyc_3 = get_cycle(D, C.fixed_points()[2])\n",
    "cyc_3"
   ]
  },
  {
   "cell_type": "code",
   "execution_count": 83,
   "id": "0a110d81-5b8a-43f1-91c8-478272237bf1",
   "metadata": {},
   "outputs": [
    {
     "data": {
      "text/plain": [
       "set()"
      ]
     },
     "execution_count": 83,
     "metadata": {},
     "output_type": "execute_result"
    }
   ],
   "source": [
    "# fixed points of C are in the different cycles of D\n",
    "set(cyc_1).intersection(set(cyc_2)).intersection(set(cyc_3))"
   ]
  },
  {
   "cell_type": "code",
   "execution_count": 84,
   "id": "eb508a9b-94bf-4a24-a702-3cf87979b297",
   "metadata": {},
   "outputs": [
    {
     "data": {
      "text/plain": [
       "True"
      ]
     },
     "execution_count": 84,
     "metadata": {},
     "output_type": "execute_result"
    }
   ],
   "source": [
    "# conjugation check\n",
    "D * (C.inverse() * D * C) == (C.inverse() * D * C) * D"
   ]
  },
  {
   "cell_type": "code",
   "execution_count": 85,
   "id": "ef1003a3-574d-46c9-ad54-c3dba229fd14",
   "metadata": {},
   "outputs": [
    {
     "name": "stdout",
     "output_type": "stream",
     "text": [
      "(0, 0, 0) -> (0, 0, 1)\n",
      "(0, 0, 1) -> (0, 0, 2)\n",
      "(0, 0, 2) -> (0, 0, 0)\n",
      "(0, 1, 0) -> (0, 1, 1)\n",
      "(0, 1, 1) -> (0, 1, 2)\n",
      "(0, 1, 2) -> (0, 1, 0)\n",
      "(0, 2, 0) -> (0, 2, 1)\n",
      "(0, 2, 1) -> (0, 2, 2)\n",
      "(0, 2, 2) -> (0, 2, 0)\n",
      "(1, 0, 0) -> (1, 0, 0)\n",
      "(1, 0, 1) -> (1, 0, 1)\n",
      "(1, 0, 2) -> (1, 0, 2)\n",
      "(1, 1, 0) -> (1, 1, 0)\n",
      "(1, 1, 1) -> (1, 1, 1)\n",
      "(1, 1, 2) -> (1, 1, 2)\n",
      "(1, 2, 0) -> (1, 2, 0)\n",
      "(1, 2, 1) -> (1, 2, 1)\n",
      "(1, 2, 2) -> (1, 2, 2)\n",
      "(2, 0, 0) -> (2, 0, 0)\n",
      "(2, 0, 1) -> (2, 0, 1)\n",
      "(2, 0, 2) -> (2, 0, 2)\n",
      "(2, 1, 0) -> (2, 1, 0)\n",
      "(2, 1, 1) -> (2, 1, 1)\n",
      "(2, 1, 2) -> (2, 1, 2)\n",
      "(2, 2, 0) -> (2, 2, 0)\n",
      "(2, 2, 1) -> (2, 2, 1)\n",
      "(2, 2, 2) -> (2, 2, 2)\n",
      "---- Non trival elements ----\n",
      "(0, 0, 0) -> (0, 0, 1)\n",
      "(0, 0, 1) -> (0, 0, 2)\n",
      "(0, 0, 2) -> (0, 0, 0)\n",
      "(0, 1, 0) -> (0, 1, 1)\n",
      "(0, 1, 1) -> (0, 1, 2)\n",
      "(0, 1, 2) -> (0, 1, 0)\n",
      "(0, 2, 0) -> (0, 2, 1)\n",
      "(0, 2, 1) -> (0, 2, 2)\n",
      "(0, 2, 2) -> (0, 2, 0)\n"
     ]
    }
   ],
   "source": [
    "#  (d * c ^2) ^ 3\n",
    "# check if not trivial\n",
    "# Note: the ** power operation is reserved for action of permutation on a point (see: get_cycle fn on top)\n",
    "dc23 = (D * (C * C)) * (D * (C * C)) * (D * (C * C))\n",
    "column_print(dc23)\n",
    "\n",
    "print(\"---- Non trival elements ----\")\n",
    "for k, v in sorted(dc23.rule.items()):\n",
    "    if k != v:\n",
    "        print(f\"{k} -> {v}\")"
   ]
  },
  {
   "cell_type": "code",
   "execution_count": 86,
   "id": "fa0ef45a-3cc1-49c0-9382-4abe234a912c",
   "metadata": {},
   "outputs": [
    {
     "name": "stderr",
     "output_type": "stream",
     "text": [
      "/home/ailadin/Projects/permutation_groups/wrepy/main.py:196: UserWarning: Current implementation of generator set factory uses a lot of memory & doen't stop for infinite group.\n",
      "  warn(\n"
     ]
    },
    {
     "data": {
      "text/plain": [
       "PermutationGroup(order=81)"
      ]
     },
     "execution_count": 86,
     "metadata": {},
     "output_type": "execute_result"
    }
   ],
   "source": [
    "# check group order\n",
    "target_group = PermutationGroup(\n",
    "    z3z3z3.underlying_set,\n",
    "    GeneratorSetFactory,\n",
    "    generator_set=([C.rule, D.rule]),\n",
    ")\n",
    "target_group"
   ]
  },
  {
   "cell_type": "code",
   "execution_count": 87,
   "id": "f70384ed-31aa-4123-8ede-e9b5160b3aa4",
   "metadata": {},
   "outputs": [
    {
     "name": "stdout",
     "output_type": "stream",
     "text": [
      "(0, 0, 0) -> (0, 1, 0)\n",
      "(0, 0, 1) -> (0, 1, 1)\n",
      "(0, 0, 2) -> (0, 1, 2)\n",
      "(0, 1, 0) -> (0, 2, 2)\n",
      "(0, 1, 1) -> (0, 2, 0)\n",
      "(0, 1, 2) -> (0, 2, 1)\n",
      "(0, 2, 0) -> (0, 0, 0)\n",
      "(0, 2, 1) -> (0, 0, 1)\n",
      "(0, 2, 2) -> (0, 0, 2)\n",
      "(1, 0, 0) -> (1, 0, 1)\n",
      "(1, 0, 1) -> (1, 0, 2)\n",
      "(1, 0, 2) -> (1, 0, 0)\n",
      "(1, 1, 0) -> (1, 1, 0)\n",
      "(1, 1, 1) -> (1, 1, 1)\n",
      "(1, 1, 2) -> (1, 1, 2)\n",
      "(1, 2, 0) -> (1, 2, 2)\n",
      "(1, 2, 1) -> (1, 2, 0)\n",
      "(1, 2, 2) -> (1, 2, 1)\n",
      "(2, 0, 0) -> (2, 1, 1)\n",
      "(2, 0, 1) -> (2, 1, 2)\n",
      "(2, 0, 2) -> (2, 1, 0)\n",
      "(2, 1, 0) -> (2, 2, 1)\n",
      "(2, 1, 1) -> (2, 2, 2)\n",
      "(2, 1, 2) -> (2, 2, 0)\n",
      "(2, 2, 0) -> (2, 0, 1)\n",
      "(2, 2, 1) -> (2, 0, 2)\n",
      "(2, 2, 2) -> (2, 0, 0)\n"
     ]
    }
   ],
   "source": [
    "# The elements of a relust group can also be examied if required\n",
    "\n",
    "target_elements = list(target_group.elements)\n",
    "column_print(target_elements[80])"
   ]
  }
 ],
 "metadata": {
  "kernelspec": {
   "display_name": "Python [conda env:group_theory]",
   "language": "python",
   "name": "conda-env-group_theory-py"
  },
  "language_info": {
   "codemirror_mode": {
    "name": "ipython",
    "version": 3
   },
   "file_extension": ".py",
   "mimetype": "text/x-python",
   "name": "python",
   "nbconvert_exporter": "python",
   "pygments_lexer": "ipython3",
   "version": "3.10.13"
  }
 },
 "nbformat": 4,
 "nbformat_minor": 5
}
