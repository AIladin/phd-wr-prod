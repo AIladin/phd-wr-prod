{
 "cells": [
  {
   "cell_type": "markdown",
   "id": "3d2364b6-77b7-4a34-88ff-2ae05fe2a78f",
   "metadata": {},
   "source": [
    "# Demo for $\\mathbf{Z}_3 \\wr \\mathbf{Z}_3 \\wr \\mathbf{Z}_3$"
   ]
  },
  {
   "cell_type": "code",
   "execution_count": 2,
   "id": "5586c99d-dcde-4464-9891-7165d7c5c62b",
   "metadata": {},
   "outputs": [],
   "source": [
    "import itertools\n",
    "import pickle\n",
    "import random\n",
    "\n",
    "import numba\n",
    "import numpy as np\n",
    "import scipy\n",
    "from numba import cuda\n",
    "from tqdm.auto import tqdm\n",
    "\n",
    "from wrepy import (\n",
    "    CyclicGroupPermutationFactory,\n",
    "    GeneratorSetFactory,\n",
    "    Permutation,\n",
    "    PermutationGroup,\n",
    ")\n",
    "from wrepy.cuda import device_fn, kernels, portrait\n",
    "from wrepy.cuda.utils import kernel_2d_spec"
   ]
  },
  {
   "cell_type": "markdown",
   "id": "2e8d09f6-2143-449b-95f2-e6cb9962a1d0",
   "metadata": {},
   "source": [
    "## Util functions"
   ]
  },
  {
   "cell_type": "code",
   "execution_count": 3,
   "id": "48d2a3af-cb69-4b08-b001-5f36f6f364e0",
   "metadata": {},
   "outputs": [],
   "source": [
    "def column_print(p: Permutation):\n",
    "    for k, v in sorted(p.rule.items()):\n",
    "        print(f\"{k} -> {v}\")\n",
    "\n",
    "\n",
    "def get_cycle(p: Permutation, v: tuple[int, int, int]) -> list[tuple[int, int, int]]:\n",
    "    cycle = []\n",
    "    while v not in cycle:\n",
    "        cycle.append(v)\n",
    "        v = v**p\n",
    "    return cycle\n",
    "\n",
    "\n",
    "class SliceIterator:\n",
    "    def __init__(\n",
    "        self,\n",
    "        total: int,\n",
    "        batch_size: int,\n",
    "    ):\n",
    "        self.batch_size = batch_size\n",
    "        self.total = total\n",
    "\n",
    "        self.last_idx = 0\n",
    "\n",
    "    def __iter__(self):\n",
    "        return self\n",
    "\n",
    "    def __next__(self) -> slice:\n",
    "        if self.last_idx >= self.total:\n",
    "            raise StopIteration\n",
    "\n",
    "        next_slice = slice(\n",
    "            self.last_idx,\n",
    "            self.last_idx + min(self.total - self.last_idx, self.batch_size),\n",
    "        )\n",
    "        self.last_idx += self.batch_size\n",
    "        return next_slice\n",
    "\n",
    "    def __len__(self):\n",
    "        n_batches = self.total // self.batch_size\n",
    "\n",
    "        if self.total % self.batch_size != 0:\n",
    "            n_batches += 1\n",
    "\n",
    "        return n_batches"
   ]
  },
  {
   "cell_type": "markdown",
   "id": "aeaed58f-67ed-482b-8a72-25f6be6d0ac5",
   "metadata": {},
   "source": [
    "## Data preparation"
   ]
  },
  {
   "cell_type": "code",
   "execution_count": 4,
   "id": "262e520c-0938-4f1e-b152-7a2751c349da",
   "metadata": {},
   "outputs": [
    {
     "data": {
      "text/plain": [
       "PermutationGroup(order=1594323)"
      ]
     },
     "execution_count": 4,
     "metadata": {},
     "output_type": "execute_result"
    }
   ],
   "source": [
    "N = 3\n",
    "z3 = PermutationGroup(\n",
    "    set(range(N)),  # define the underling set as {0, 1, 2}\n",
    "    CyclicGroupPermutationFactory,  # setting the rule how to build group from underling set\n",
    ")\n",
    "z3z3 = z3.wreath_product(z3)\n",
    "z3z3z3 = z3z3.wreath_product(z3)\n",
    "z3z3z3"
   ]
  },
  {
   "cell_type": "markdown",
   "id": "582484df-d5cd-4e42-8a21-1c073c471897",
   "metadata": {},
   "source": [
    "## Running test"
   ]
  },
  {
   "cell_type": "code",
   "execution_count": 5,
   "id": "0ccb7df9-7bac-4b7d-b839-b50ff4ac7f58",
   "metadata": {},
   "outputs": [],
   "source": [
    "arities = np.array([3, 3, 3], dtype=np.int8)\n",
    "portraits = portrait.portrait_array_from_arities(*arities)\n",
    "all_points = portrait.get_zn_decart_space(*arities)\n",
    "\n",
    "arities_cuda = cuda.to_device(arities)\n",
    "all_points_cuda = cuda.to_device(all_points)"
   ]
  },
  {
   "cell_type": "code",
   "execution_count": 6,
   "id": "990c9531-7ee6-4a4d-b5ed-5ad0b9854734",
   "metadata": {},
   "outputs": [
    {
     "name": "stderr",
     "output_type": "stream",
     "text": [
      "/home/ailadin/miniconda3/envs/group_theory/lib/python3.10/site-packages/numba/cuda/cudadrv/devicearray.py:888: NumbaPerformanceWarning: Host array used in CUDA kernel will incur copy overhead to/from device.\n",
      "  warn(NumbaPerformanceWarning(msg))\n"
     ]
    },
    {
     "name": "stdout",
     "output_type": "stream",
     "text": [
      "Order: 1: counts 1\n",
      "Order: 3: counts 104246\n",
      "Order: 9: counts 1017684\n",
      "Order: 27: counts 472392\n",
      "CPU times: user 283 ms, sys: 9.55 ms, total: 292 ms\n",
      "Wall time: 290 ms\n"
     ]
    }
   ],
   "source": [
    "%%time\n",
    "# calculating orders\n",
    "\n",
    "portraits_cuda = cuda.to_device(portraits)\n",
    "tmp_1 = cuda.device_array_like(portraits_cuda)\n",
    "tmp_2 = cuda.device_array_like(portraits_cuda)\n",
    "\n",
    "orders_cuda = cuda.device_array(len(portraits_cuda), dtype=int)\n",
    "\n",
    "kernels.order_kernel.forall(len(portraits_cuda))(\n",
    "    arities_cuda,\n",
    "    portraits,\n",
    "    tmp_1,\n",
    "    tmp_2,\n",
    "    all_points_cuda,\n",
    "    orders_cuda,\n",
    ")\n",
    "\n",
    "orders = orders_cuda.copy_to_host()\n",
    "for label, counts in zip(*np.unique(orders, return_counts=True)):\n",
    "    print(f\"Order: {label}: counts {counts}\")"
   ]
  },
  {
   "cell_type": "code",
   "execution_count": 7,
   "id": "d9fd4b04-a9dc-4333-b442-d5119963d05c",
   "metadata": {},
   "outputs": [
    {
     "data": {
      "text/plain": [
       "(104246, 13)"
      ]
     },
     "execution_count": 7,
     "metadata": {},
     "output_type": "execute_result"
    }
   ],
   "source": [
    "order_3_portraits = portraits[orders == 3]\n",
    "order_3_portraits.shape"
   ]
  },
  {
   "cell_type": "code",
   "execution_count": 8,
   "id": "7d0ac1dd-74e4-450b-a6c3-407ef4892796",
   "metadata": {},
   "outputs": [
    {
     "data": {
      "text/plain": [
       "array([0, 0, 0, 0, 0, 0, 0, 0, 0, 1, 1, 2, 1], dtype=int8)"
      ]
     },
     "execution_count": 8,
     "metadata": {},
     "output_type": "execute_result"
    }
   ],
   "source": [
    "order_3_portraits[42]"
   ]
  },
  {
   "cell_type": "code",
   "execution_count": 9,
   "id": "c8b07f15-1236-417a-bae8-92970e00fde6",
   "metadata": {},
   "outputs": [
    {
     "name": "stdout",
     "output_type": "stream",
     "text": [
      "n_fixed_points: 0: counts 30698\n",
      "n_fixed_points: 3: counts 24336\n",
      "n_fixed_points: 6: counts 23400\n",
      "n_fixed_points: 9: counts 14988\n",
      "n_fixed_points: 12: counts 7272\n",
      "n_fixed_points: 15: counts 2664\n",
      "n_fixed_points: 18: counts 726\n",
      "n_fixed_points: 21: counts 144\n",
      "n_fixed_points: 24: counts 18\n",
      "CPU times: user 5.05 ms, sys: 233 µs, total: 5.29 ms\n",
      "Wall time: 4.64 ms\n"
     ]
    },
    {
     "name": "stderr",
     "output_type": "stream",
     "text": [
      "/home/ailadin/miniconda3/envs/group_theory/lib/python3.10/site-packages/numba/cuda/dispatcher.py:536: NumbaPerformanceWarning: Grid size 102 will likely result in GPU under-utilization due to low occupancy.\n",
      "  warn(NumbaPerformanceWarning(msg))\n"
     ]
    }
   ],
   "source": [
    "%%time\n",
    "# counting the number of fixed points\n",
    "order_3_portraits_cuda = cuda.to_device(order_3_portraits)\n",
    "n_fixed_points_cuda = cuda.device_array(len(order_3_portraits), dtype=int)\n",
    "\n",
    "kernels.n_fixed_points_kernel.forall(len(order_3_portraits))(\n",
    "    arities, order_3_portraits_cuda, all_points_cuda, n_fixed_points_cuda\n",
    ")\n",
    "\n",
    "n_fixed_points = n_fixed_points_cuda.copy_to_host()\n",
    "for label, counts in zip(*np.unique(n_fixed_points, return_counts=True)):\n",
    "    print(f\"n_fixed_points: {label}: counts {counts}\")"
   ]
  },
  {
   "cell_type": "code",
   "execution_count": 10,
   "id": "b82b13ae-98b9-4439-b3f8-ad328021eec4",
   "metadata": {},
   "outputs": [],
   "source": [
    "c_candidates = order_3_portraits[n_fixed_points == 3]\n",
    "d_candidates = order_3_portraits[n_fixed_points == 0]"
   ]
  },
  {
   "cell_type": "code",
   "execution_count": 14,
   "id": "ef00b03e-bf49-441b-bcd3-fd55b981c99f",
   "metadata": {},
   "outputs": [],
   "source": [
    "n_nodes = c_candidates.shape[-1]\n",
    "point_dim = all_points.shape[-1]\n",
    "\n",
    "@cuda.jit(\n",
    "    numba.void(\n",
    "        numba.int8[:],\n",
    "        numba.int8[:, :],\n",
    "        numba.int8[:, :],\n",
    "        numba.int8[:, :],\n",
    "        numba.bool_[:, :],\n",
    "    )\n",
    ")\n",
    "def main_kernel(\n",
    "    arities, \n",
    "    portraits_c,\n",
    "    portraits_d,\n",
    "    all_points,\n",
    "    result,\n",
    "):\n",
    "    # tmp local memory\n",
    "\n",
    "    global n_nodes\n",
    "    global point_dim\n",
    "    \n",
    "    tmp_1 = cuda.local.array(n_nodes, numba.int8)\n",
    "    tmp_2 = cuda.local.array(n_nodes, numba.int8)\n",
    "    tmp_3 = cuda.local.array(n_nodes, numba.int8)\n",
    "    point_tmp = cuda.local.array(point_dim, numba.int8)\n",
    "\n",
    "    c_idx, d_idx = cuda.grid(2)\n",
    "\n",
    "    result[c_idx, d_idx] = False\n",
    "\n",
    "    if c_idx >= len(portraits_c) or d_idx >= len(portraits_d):\n",
    "        return\n",
    "\n",
    "    c = portraits_c[c_idx]\n",
    "    d = portraits_d[d_idx]\n",
    "\n",
    "    ## Fixed point check\n",
    "\n",
    "    for point in all_points:\n",
    "        if device_fn.is_fixed_point(arities, c, point):\n",
    "            device_fn.action(arities, d, point, point_tmp)\n",
    "\n",
    "            if device_fn.is_fixed_point(arities, c, point_tmp):\n",
    "                result[c_idx, d_idx] = False\n",
    "                return\n",
    "\n",
    "    # $(dc^{2})^{3}$ is non-trivial\n",
    "\n",
    "    # dc -> tmp_1\n",
    "    device_fn.portait_mul(arities, d, c, tmp_1, all_points)\n",
    "    # dc^2 -> tmp_2d_2\n",
    "    device_fn.portait_mul(arities, tmp_1, c, tmp_2, all_points)\n",
    "    # (dc^2) ^ 2 -> tmp_2d_1\n",
    "    device_fn.portait_mul(arities, tmp_2, tmp_2, tmp_1, all_points)\n",
    "    # (dc^2) ^ 3 -> tmp_2d_3\n",
    "    device_fn.portait_mul(arities, tmp_1, tmp_2, tmp_3, all_points)\n",
    "\n",
    "    if device_fn.check_zero(tmp_3):\n",
    "        result[c_idx, d_idx] = False\n",
    "        return\n",
    "    ## check (c^{-1}dc)d = d(c^{-1}dc)\n",
    "\n",
    "    # c^(-1) -> tmp_2d_2\n",
    "    device_fn.portait_inverse(arities, c, tmp_2, all_points)\n",
    "\n",
    "    # c^(-1)d -> tmp_2d_1\n",
    "    device_fn.portait_mul(arities, tmp_2, d, tmp_1, all_points)\n",
    "\n",
    "    # c^(-1)dc -> tmp_2d_3\n",
    "    device_fn.portait_mul(arities, tmp_1, c, tmp_3, all_points)\n",
    "\n",
    "    # (c^(-1)dc)d -> tmp_2d_1\n",
    "    device_fn.portait_mul(arities, tmp_3, d, tmp_1, all_points)\n",
    "\n",
    "    # d(c^(-1)dc) -> tmp_2d_2\n",
    "    device_fn.portait_mul(arities, d, tmp_3, tmp_2, all_points)\n",
    "\n",
    "    # check (c^{-1}dc)d = d(c^{-1}dc)\n",
    "    if not device_fn.eq_portrait(tmp_1, tmp_2):\n",
    "        result[c_idx, d_idx] = False\n",
    "        return\n",
    "\n",
    "    result[c_idx, d_idx] = True"
   ]
  },
  {
   "cell_type": "code",
   "execution_count": 18,
   "id": "f5954663-0dcf-4751-8f8e-596ff263612e",
   "metadata": {},
   "outputs": [],
   "source": [
    "BATCH_SIZE = 2048\n",
    "\n",
    "c_candidates_cuda = cuda.to_device(c_candidates)\n",
    "d_candidates_cuda = cuda.to_device(d_candidates)\n",
    "result_cuda = cuda.device_array((BATCH_SIZE, BATCH_SIZE), dtype=bool)\n",
    "\n",
    "bpg, tpb = kernel_2d_spec((BATCH_SIZE, BATCH_SIZE), (16, 16))\n",
    "\n",
    "compiled_kernel = main_kernel[bpg, tpb]"
   ]
  },
  {
   "cell_type": "code",
   "execution_count": 19,
   "id": "84090654-3dc8-4116-a58c-92b5aaa4f3a5",
   "metadata": {},
   "outputs": [],
   "source": [
    "def run_block(c_slice: slice, d_slice: slice) -> np.ndarray:\n",
    "    # slcies shoud be square\n",
    "\n",
    "    c_data = c_candidates_cuda[c_slice]\n",
    "    d_data = d_candidates_cuda[d_slice]\n",
    "\n",
    "    compiled_kernel(\n",
    "        arities_cuda,\n",
    "        c_data,\n",
    "        d_data,\n",
    "        all_points_cuda,\n",
    "        result_cuda,\n",
    "    )\n",
    "    return result_cuda.copy_to_host()"
   ]
  },
  {
   "cell_type": "code",
   "execution_count": 21,
   "id": "17c591ba-2e97-4ce1-94fb-1e056174898f",
   "metadata": {},
   "outputs": [
    {
     "name": "stdout",
     "output_type": "stream",
     "text": [
      "CPU times: user 177 ms, sys: 124 µs, total: 177 ms\n",
      "Wall time: 174 ms\n"
     ]
    },
    {
     "data": {
      "text/plain": [
       "False"
      ]
     },
     "execution_count": 21,
     "metadata": {},
     "output_type": "execute_result"
    }
   ],
   "source": [
    "%%time\n",
    "c_idx = 0\n",
    "d_idx = 0\n",
    "run_block(slice(c_idx, c_idx + BATCH_SIZE), slice(d_idx, d_idx + BATCH_SIZE)).any()"
   ]
  },
  {
   "cell_type": "code",
   "execution_count": 23,
   "id": "d0e929ad-5a13-44d0-816e-81dd8cd33042",
   "metadata": {},
   "outputs": [
    {
     "data": {
      "application/vnd.jupyter.widget-view+json": {
       "model_id": "5d854db48f934119ab6b53e7d529ded0",
       "version_major": 2,
       "version_minor": 0
      },
      "text/plain": [
       "  0%|          | 0/180 [00:00<?, ?it/s]"
      ]
     },
     "metadata": {},
     "output_type": "display_data"
    }
   ],
   "source": [
    "valid_indexes_c = []\n",
    "valid_indexes_d = []\n",
    "\n",
    "\n",
    "c_slice_iterator = SliceIterator(len(c_candidates), BATCH_SIZE)\n",
    "d_slice_iterator = SliceIterator(len(d_candidates), BATCH_SIZE)\n",
    "\n",
    "for c_slice, d_slice in tqdm(\n",
    "    itertools.product(c_slice_iterator, d_slice_iterator),\n",
    "    total=len(c_slice_iterator) * len(d_slice_iterator),\n",
    "):\n",
    "    c_indexes, d_indexes = run_block(c_slice, d_slice).nonzero()\n",
    "\n",
    "    valid_indexes_c.append(c_indexes + c_slice.start)\n",
    "    valid_indexes_d.append(d_indexes + d_slice.start)"
   ]
  },
  {
   "cell_type": "code",
   "execution_count": 24,
   "id": "c0d1ec4a-1f85-4fcf-815e-3b9055e431ad",
   "metadata": {},
   "outputs": [],
   "source": [
    "valid_indexes_c = np.concatenate(valid_indexes_c)\n",
    "valid_indexes_d = np.concatenate(valid_indexes_d)"
   ]
  },
  {
   "cell_type": "code",
   "execution_count": 25,
   "id": "3bf4ad10-9bcf-4f1e-bb19-2256e5c1f19c",
   "metadata": {},
   "outputs": [
    {
     "data": {
      "text/plain": [
       "(40223304,)"
      ]
     },
     "execution_count": 25,
     "metadata": {},
     "output_type": "execute_result"
    }
   ],
   "source": [
    "valid_indexes_c.shape"
   ]
  },
  {
   "cell_type": "markdown",
   "id": "843935e9-844b-4d04-8390-88952abc8b94",
   "metadata": {},
   "source": [
    "## Demo"
   ]
  },
  {
   "cell_type": "code",
   "execution_count": 25,
   "id": "e2d803ce-ef70-4224-9fe0-159b094a0438",
   "metadata": {},
   "outputs": [],
   "source": [
    "c_permutations = portrait.to_dict_permutation(arities, c_candidates, z3z3z3, all_points)\n",
    "d_permutations = portrait.to_dict_permutation(arities, d_candidates, z3z3z3, all_points)"
   ]
  },
  {
   "cell_type": "code",
   "execution_count": 29,
   "id": "31b7e2cf-1ce7-43de-84a4-cf10f669c05c",
   "metadata": {},
   "outputs": [
    {
     "name": "stdout",
     "output_type": "stream",
     "text": [
      "Selected pair: 107400\n",
      "3909 2017\n"
     ]
    }
   ],
   "source": [
    "# Select a random pair C, D\n",
    "pair_index = random.randrange(0, len(valid_indexes_c))\n",
    "print(\"Selected pair:\", pair_index)\n",
    "\n",
    "c_idx = valid_indexes_c[pair_index]\n",
    "d_idx = valid_indexes_d[pair_index]\n",
    "\n",
    "print(c_idx, d_idx)\n",
    "\n",
    "C = c_permutations[c_idx]\n",
    "D = d_permutations[d_idx]"
   ]
  },
  {
   "cell_type": "code",
   "execution_count": 30,
   "id": "0ca1390d-d9a0-408d-8257-cbbda7cf2e75",
   "metadata": {},
   "outputs": [
    {
     "name": "stdout",
     "output_type": "stream",
     "text": [
      "C: [0 0 0 1 2 2 1 2 1 0 1 0 2]\n",
      "D: [0 0 1 0 2 1 1 2 2 2 1 1 2]\n"
     ]
    }
   ],
   "source": [
    "# portraits\n",
    "print(\"C:\", c_candidates[c_idx])\n",
    "print(\"D:\", d_candidates[d_idx])"
   ]
  },
  {
   "cell_type": "code",
   "execution_count": 31,
   "id": "8070d54b-4e81-43ad-a349-acabbeb05504",
   "metadata": {},
   "outputs": [
    {
     "data": {
      "text/plain": [
       "3"
      ]
     },
     "execution_count": 31,
     "metadata": {},
     "output_type": "execute_result"
    }
   ],
   "source": [
    "# Check order of C\n",
    "C.order"
   ]
  },
  {
   "cell_type": "code",
   "execution_count": 32,
   "id": "d6536a14-f2d5-408f-bd48-3b02f3daffbe",
   "metadata": {},
   "outputs": [
    {
     "data": {
      "text/plain": [
       "3"
      ]
     },
     "execution_count": 32,
     "metadata": {},
     "output_type": "execute_result"
    }
   ],
   "source": [
    "# Check order of D\n",
    "D.order"
   ]
  },
  {
   "cell_type": "code",
   "execution_count": 33,
   "id": "12435ef0-3fbc-47df-a0b4-29a81b6ad37c",
   "metadata": {},
   "outputs": [
    {
     "name": "stdout",
     "output_type": "stream",
     "text": [
      "(0, 0, 0) -> (0, 0, 2)\n",
      "(0, 0, 1) -> (0, 0, 0)\n",
      "(0, 0, 2) -> (0, 0, 1)\n",
      "(0, 1, 0) -> (0, 1, 2)\n",
      "(0, 1, 1) -> (0, 1, 0)\n",
      "(0, 1, 2) -> (0, 1, 1)\n",
      "(0, 2, 0) -> (0, 2, 1)\n",
      "(0, 2, 1) -> (0, 2, 2)\n",
      "(0, 2, 2) -> (0, 2, 0)\n",
      "(1, 0, 0) -> (1, 0, 2)\n",
      "(1, 0, 1) -> (1, 0, 0)\n",
      "(1, 0, 2) -> (1, 0, 1)\n",
      "(1, 1, 0) -> (1, 1, 1)\n",
      "(1, 1, 1) -> (1, 1, 2)\n",
      "(1, 1, 2) -> (1, 1, 0)\n",
      "(1, 2, 0) -> (1, 2, 0)\n",
      "(1, 2, 1) -> (1, 2, 1)\n",
      "(1, 2, 2) -> (1, 2, 2)\n",
      "(2, 0, 0) -> (2, 1, 1)\n",
      "(2, 0, 1) -> (2, 1, 2)\n",
      "(2, 0, 2) -> (2, 1, 0)\n",
      "(2, 1, 0) -> (2, 2, 0)\n",
      "(2, 1, 1) -> (2, 2, 1)\n",
      "(2, 1, 2) -> (2, 2, 2)\n",
      "(2, 2, 0) -> (2, 0, 2)\n",
      "(2, 2, 1) -> (2, 0, 0)\n",
      "(2, 2, 2) -> (2, 0, 1)\n"
     ]
    }
   ],
   "source": [
    "# Full view of C\n",
    "column_print(C)"
   ]
  },
  {
   "cell_type": "code",
   "execution_count": 34,
   "id": "0d3c9d8a-9147-4fcc-b06f-3dc0f317a237",
   "metadata": {},
   "outputs": [
    {
     "name": "stdout",
     "output_type": "stream",
     "text": [
      "(0, 0, 0) -> (0, 0, 2)\n",
      "(0, 0, 1) -> (0, 0, 0)\n",
      "(0, 0, 2) -> (0, 0, 1)\n",
      "(0, 1, 0) -> (0, 1, 1)\n",
      "(0, 1, 1) -> (0, 1, 2)\n",
      "(0, 1, 2) -> (0, 1, 0)\n",
      "(0, 2, 0) -> (0, 2, 1)\n",
      "(0, 2, 1) -> (0, 2, 2)\n",
      "(0, 2, 2) -> (0, 2, 0)\n",
      "(1, 0, 0) -> (1, 1, 2)\n",
      "(1, 0, 1) -> (1, 1, 0)\n",
      "(1, 0, 2) -> (1, 1, 1)\n",
      "(1, 1, 0) -> (1, 2, 2)\n",
      "(1, 1, 1) -> (1, 2, 0)\n",
      "(1, 1, 2) -> (1, 2, 1)\n",
      "(1, 2, 0) -> (1, 0, 2)\n",
      "(1, 2, 1) -> (1, 0, 0)\n",
      "(1, 2, 2) -> (1, 0, 1)\n",
      "(2, 0, 0) -> (2, 0, 1)\n",
      "(2, 0, 1) -> (2, 0, 2)\n",
      "(2, 0, 2) -> (2, 0, 0)\n",
      "(2, 1, 0) -> (2, 1, 1)\n",
      "(2, 1, 1) -> (2, 1, 2)\n",
      "(2, 1, 2) -> (2, 1, 0)\n",
      "(2, 2, 0) -> (2, 2, 2)\n",
      "(2, 2, 1) -> (2, 2, 0)\n",
      "(2, 2, 2) -> (2, 2, 1)\n"
     ]
    }
   ],
   "source": [
    "# Full view of D\n",
    "column_print(D)"
   ]
  },
  {
   "cell_type": "code",
   "execution_count": 35,
   "id": "c41bada8-d5dc-4e34-be6d-e50e42fa1bf4",
   "metadata": {},
   "outputs": [
    {
     "data": {
      "text/plain": [
       "[(1, 2, 0), (1, 2, 1), (1, 2, 2)]"
      ]
     },
     "execution_count": 35,
     "metadata": {},
     "output_type": "execute_result"
    }
   ],
   "source": [
    "C.fixed_points()"
   ]
  },
  {
   "cell_type": "code",
   "execution_count": 36,
   "id": "f5b87b14-31aa-4ff2-97b8-dff3542a01c3",
   "metadata": {},
   "outputs": [
    {
     "data": {
      "text/plain": [
       "[]"
      ]
     },
     "execution_count": 36,
     "metadata": {},
     "output_type": "execute_result"
    }
   ],
   "source": [
    "D.fixed_points()"
   ]
  },
  {
   "cell_type": "code",
   "execution_count": 37,
   "id": "254fb629-1edf-44c9-9391-dfca35981f43",
   "metadata": {},
   "outputs": [
    {
     "data": {
      "text/plain": [
       "[(1, 2, 0), (1, 0, 2), (1, 1, 1)]"
      ]
     },
     "execution_count": 37,
     "metadata": {},
     "output_type": "execute_result"
    }
   ],
   "source": [
    "cyc_1 = get_cycle(D, C.fixed_points()[0])\n",
    "cyc_1"
   ]
  },
  {
   "cell_type": "code",
   "execution_count": 38,
   "id": "322734db-e672-4f81-ab3f-29068d0c34c2",
   "metadata": {},
   "outputs": [
    {
     "data": {
      "text/plain": [
       "[(1, 2, 1), (1, 0, 0), (1, 1, 2)]"
      ]
     },
     "execution_count": 38,
     "metadata": {},
     "output_type": "execute_result"
    }
   ],
   "source": [
    "cyc_2 = get_cycle(D, C.fixed_points()[1])\n",
    "cyc_2"
   ]
  },
  {
   "cell_type": "code",
   "execution_count": 39,
   "id": "d9d70354-63de-484c-9058-c7134a7a8be9",
   "metadata": {},
   "outputs": [
    {
     "data": {
      "text/plain": [
       "[(1, 2, 2), (1, 0, 1), (1, 1, 0)]"
      ]
     },
     "execution_count": 39,
     "metadata": {},
     "output_type": "execute_result"
    }
   ],
   "source": [
    "cyc_3 = get_cycle(D, C.fixed_points()[2])\n",
    "cyc_3"
   ]
  },
  {
   "cell_type": "code",
   "execution_count": 40,
   "id": "0a110d81-5b8a-43f1-91c8-478272237bf1",
   "metadata": {},
   "outputs": [
    {
     "data": {
      "text/plain": [
       "set()"
      ]
     },
     "execution_count": 40,
     "metadata": {},
     "output_type": "execute_result"
    }
   ],
   "source": [
    "# fixed points of C are in the different cycles of D\n",
    "set(cyc_1).intersection(set(cyc_2)).intersection(set(cyc_3))"
   ]
  },
  {
   "cell_type": "code",
   "execution_count": 41,
   "id": "eb508a9b-94bf-4a24-a702-3cf87979b297",
   "metadata": {},
   "outputs": [
    {
     "data": {
      "text/plain": [
       "True"
      ]
     },
     "execution_count": 41,
     "metadata": {},
     "output_type": "execute_result"
    }
   ],
   "source": [
    "# conjugation check\n",
    "D * (C.inverse() * D * C) == (C.inverse() * D * C) * D"
   ]
  },
  {
   "cell_type": "code",
   "execution_count": 42,
   "id": "ef1003a3-574d-46c9-ad54-c3dba229fd14",
   "metadata": {},
   "outputs": [
    {
     "name": "stdout",
     "output_type": "stream",
     "text": [
      "(0, 0, 0) -> (0, 0, 0)\n",
      "(0, 0, 1) -> (0, 0, 1)\n",
      "(0, 0, 2) -> (0, 0, 2)\n",
      "(0, 1, 0) -> (0, 1, 0)\n",
      "(0, 1, 1) -> (0, 1, 1)\n",
      "(0, 1, 2) -> (0, 1, 2)\n",
      "(0, 2, 0) -> (0, 2, 0)\n",
      "(0, 2, 1) -> (0, 2, 1)\n",
      "(0, 2, 2) -> (0, 2, 2)\n",
      "(1, 0, 0) -> (1, 0, 0)\n",
      "(1, 0, 1) -> (1, 0, 1)\n",
      "(1, 0, 2) -> (1, 0, 2)\n",
      "(1, 1, 0) -> (1, 1, 0)\n",
      "(1, 1, 1) -> (1, 1, 1)\n",
      "(1, 1, 2) -> (1, 1, 2)\n",
      "(1, 2, 0) -> (1, 2, 0)\n",
      "(1, 2, 1) -> (1, 2, 1)\n",
      "(1, 2, 2) -> (1, 2, 2)\n",
      "(2, 0, 0) -> (2, 0, 1)\n",
      "(2, 0, 1) -> (2, 0, 2)\n",
      "(2, 0, 2) -> (2, 0, 0)\n",
      "(2, 1, 0) -> (2, 1, 1)\n",
      "(2, 1, 1) -> (2, 1, 2)\n",
      "(2, 1, 2) -> (2, 1, 0)\n",
      "(2, 2, 0) -> (2, 2, 1)\n",
      "(2, 2, 1) -> (2, 2, 2)\n",
      "(2, 2, 2) -> (2, 2, 0)\n",
      "---- Non trival elements ----\n",
      "(2, 0, 0) -> (2, 0, 1)\n",
      "(2, 0, 1) -> (2, 0, 2)\n",
      "(2, 0, 2) -> (2, 0, 0)\n",
      "(2, 1, 0) -> (2, 1, 1)\n",
      "(2, 1, 1) -> (2, 1, 2)\n",
      "(2, 1, 2) -> (2, 1, 0)\n",
      "(2, 2, 0) -> (2, 2, 1)\n",
      "(2, 2, 1) -> (2, 2, 2)\n",
      "(2, 2, 2) -> (2, 2, 0)\n"
     ]
    }
   ],
   "source": [
    "#  (d * c ^2) ^ 3\n",
    "# check if not trivial\n",
    "# Note: the ** power operation is reserved for action of permutation on a point (see: get_cycle fn on top)\n",
    "dc23 = (D * (C * C)) * (D * (C * C)) * (D * (C * C))\n",
    "column_print(dc23)\n",
    "\n",
    "print(\"---- Non trival elements ----\")\n",
    "for k, v in sorted(dc23.rule.items()):\n",
    "    if k != v:\n",
    "        print(f\"{k} -> {v}\")"
   ]
  },
  {
   "cell_type": "code",
   "execution_count": 43,
   "id": "fa0ef45a-3cc1-49c0-9382-4abe234a912c",
   "metadata": {},
   "outputs": [
    {
     "name": "stderr",
     "output_type": "stream",
     "text": [
      "/home/ailadin/Projects/permutation_groups/wrepy/main.py:196: UserWarning: Current implementation of generator set factory uses a lot of memory & doen't stop for infinite group.\n",
      "  warn(\n"
     ]
    },
    {
     "data": {
      "text/plain": [
       "PermutationGroup(order=81)"
      ]
     },
     "execution_count": 43,
     "metadata": {},
     "output_type": "execute_result"
    }
   ],
   "source": [
    "# check group order\n",
    "target_group = PermutationGroup(\n",
    "    z3z3z3.underlying_set,\n",
    "    GeneratorSetFactory,\n",
    "    generator_set=([C.rule, D.rule]),\n",
    ")\n",
    "target_group"
   ]
  },
  {
   "cell_type": "code",
   "execution_count": 44,
   "id": "f70384ed-31aa-4123-8ede-e9b5160b3aa4",
   "metadata": {},
   "outputs": [
    {
     "name": "stdout",
     "output_type": "stream",
     "text": [
      "(0, 0, 0) -> (0, 0, 2)\n",
      "(0, 0, 1) -> (0, 0, 0)\n",
      "(0, 0, 2) -> (0, 0, 1)\n",
      "(0, 1, 0) -> (0, 1, 0)\n",
      "(0, 1, 1) -> (0, 1, 1)\n",
      "(0, 1, 2) -> (0, 1, 2)\n",
      "(0, 2, 0) -> (0, 2, 1)\n",
      "(0, 2, 1) -> (0, 2, 2)\n",
      "(0, 2, 2) -> (0, 2, 0)\n",
      "(1, 0, 0) -> (1, 2, 0)\n",
      "(1, 0, 1) -> (1, 2, 1)\n",
      "(1, 0, 2) -> (1, 2, 2)\n",
      "(1, 1, 0) -> (1, 0, 1)\n",
      "(1, 1, 1) -> (1, 0, 2)\n",
      "(1, 1, 2) -> (1, 0, 0)\n",
      "(1, 2, 0) -> (1, 1, 2)\n",
      "(1, 2, 1) -> (1, 1, 0)\n",
      "(1, 2, 2) -> (1, 1, 1)\n",
      "(2, 0, 0) -> (2, 2, 2)\n",
      "(2, 0, 1) -> (2, 2, 0)\n",
      "(2, 0, 2) -> (2, 2, 1)\n",
      "(2, 1, 0) -> (2, 0, 2)\n",
      "(2, 1, 1) -> (2, 0, 0)\n",
      "(2, 1, 2) -> (2, 0, 1)\n",
      "(2, 2, 0) -> (2, 1, 1)\n",
      "(2, 2, 1) -> (2, 1, 2)\n",
      "(2, 2, 2) -> (2, 1, 0)\n"
     ]
    }
   ],
   "source": [
    "# The elements of a relust group can also be examied if required\n",
    "\n",
    "target_elements = list(target_group.elements)\n",
    "column_print(target_elements[80])"
   ]
  }
 ],
 "metadata": {
  "kernelspec": {
   "display_name": "Python [conda env:group_theory]",
   "language": "python",
   "name": "conda-env-group_theory-py"
  },
  "language_info": {
   "codemirror_mode": {
    "name": "ipython",
    "version": 3
   },
   "file_extension": ".py",
   "mimetype": "text/x-python",
   "name": "python",
   "nbconvert_exporter": "python",
   "pygments_lexer": "ipython3",
   "version": "3.10.13"
  }
 },
 "nbformat": 4,
 "nbformat_minor": 5
}
