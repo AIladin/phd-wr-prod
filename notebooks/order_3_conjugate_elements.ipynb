{
 "cells": [
  {
   "cell_type": "code",
   "execution_count": 1,
   "id": "f0df7332-1477-4e3f-bf3e-7198c233427f",
   "metadata": {},
   "outputs": [],
   "source": [
    "import sys\n",
    "\n",
    "sys.path.append(\"../src\")\n",
    "import math\n",
    "from main import *"
   ]
  },
  {
   "cell_type": "code",
   "execution_count": 2,
   "id": "91049c04-9235-4ba9-9e22-aaae8ca8c4eb",
   "metadata": {},
   "outputs": [
    {
     "data": {
      "text/plain": [
       "PermutationGroup(order=3)"
      ]
     },
     "execution_count": 2,
     "metadata": {},
     "output_type": "execute_result"
    }
   ],
   "source": [
    "z3 = PermutationGroup(set(range(3)), CyclicGroupPermutationFactory)\n",
    "z3"
   ]
  },
  {
   "cell_type": "code",
   "execution_count": 3,
   "id": "abe008e2-3d5c-42b6-80a6-b2d02680eb6f",
   "metadata": {},
   "outputs": [
    {
     "data": {
      "text/html": [
       "<pre style=\"white-space:pre;overflow-x:auto;line-height:normal;font-family:Menlo,'DejaVu Sans Mono',consolas,'Courier New',monospace\"><span style=\"color: #800080; text-decoration-color: #800080; font-weight: bold\">PermutationGroup</span><span style=\"font-weight: bold\">(</span><span style=\"color: #808000; text-decoration-color: #808000\">order</span>=<span style=\"color: #008080; text-decoration-color: #008080; font-weight: bold\">1594323</span><span style=\"font-weight: bold\">)</span>\n",
       "</pre>\n"
      ],
      "text/plain": [
       "\u001b[1;35mPermutationGroup\u001b[0m\u001b[1m(\u001b[0m\u001b[33morder\u001b[0m=\u001b[1;36m1594323\u001b[0m\u001b[1m)\u001b[0m\n"
      ]
     },
     "metadata": {},
     "output_type": "display_data"
    },
    {
     "data": {
      "application/vnd.jupyter.widget-view+json": {
       "model_id": "5ffc36be617c45e19388c4a2f68bb82c",
       "version_major": 2,
       "version_minor": 0
      },
      "text/plain": [
       "  0%|          | 0/1594323 [00:00<?, ?it/s]"
      ]
     },
     "metadata": {},
     "output_type": "display_data"
    }
   ],
   "source": [
    "order_3_elements: set[Permutation] = set()\n",
    "\n",
    "z3z3z3 = z3.wreath_product(z3).wreath_product(z3)\n",
    "print(z3z3z3)\n",
    "for e in tqdm(z3z3z3.elements):\n",
    "    if e.order == 3:\n",
    "        order_3_elements.add(e)"
   ]
  },
  {
   "cell_type": "code",
   "execution_count": 4,
   "id": "2c7fb04a-f018-4645-b681-da6b524b4bdf",
   "metadata": {},
   "outputs": [
    {
     "data": {
      "text/plain": [
       "104246"
      ]
     },
     "execution_count": 4,
     "metadata": {},
     "output_type": "execute_result"
    }
   ],
   "source": [
    "len(order_3_elements)"
   ]
  },
  {
   "cell_type": "code",
   "execution_count": 5,
   "id": "a9b8322f-6814-4b10-b496-111734e09c5e",
   "metadata": {},
   "outputs": [
    {
     "data": {
      "application/vnd.jupyter.widget-view+json": {
       "model_id": "a84958e83f064ea8be141e08ce335f75",
       "version_major": 2,
       "version_minor": 0
      },
      "text/plain": [
       "  0%|          | 0/5433562135 [00:00<?, ?it/s]"
      ]
     },
     "metadata": {},
     "output_type": "display_data"
    },
    {
     "ename": "KeyboardInterrupt",
     "evalue": "",
     "output_type": "error",
     "traceback": [
      "\u001b[0;31m---------------------------------------------------------------------------\u001b[0m",
      "\u001b[0;31mKeyboardInterrupt\u001b[0m                         Traceback (most recent call last)",
      "Cell \u001b[0;32mIn[5], line 3\u001b[0m\n\u001b[1;32m      1\u001b[0m conjugate_pairs \u001b[38;5;241m=\u001b[39m \u001b[38;5;28mset\u001b[39m()\n\u001b[1;32m      2\u001b[0m \u001b[38;5;28;01mfor\u001b[39;00m (a, b) \u001b[38;5;129;01min\u001b[39;00m tqdm(itertools\u001b[38;5;241m.\u001b[39mcombinations(order_3_elements, r\u001b[38;5;241m=\u001b[39m\u001b[38;5;241m2\u001b[39m), total\u001b[38;5;241m=\u001b[39mmath\u001b[38;5;241m.\u001b[39mcomb(\u001b[38;5;28mlen\u001b[39m(order_3_elements), \u001b[38;5;241m2\u001b[39m)):\n\u001b[0;32m----> 3\u001b[0m     \u001b[38;5;28;01mif\u001b[39;00m \u001b[43ma\u001b[49m\u001b[38;5;241;43m.\u001b[39;49m\u001b[43mis_conjugate\u001b[49m\u001b[43m(\u001b[49m\u001b[43mb\u001b[49m\u001b[43m)\u001b[49m:\n\u001b[1;32m      4\u001b[0m         conjugate_pairs\u001b[38;5;241m.\u001b[39madd((a,b))\n",
      "File \u001b[0;32m~/Projects/permutation_groups/notebooks/../src/main.py:41\u001b[0m, in \u001b[0;36mPermutation.is_conjugate\u001b[0;34m(self, other)\u001b[0m\n\u001b[1;32m     40\u001b[0m \u001b[38;5;28;01mdef\u001b[39;00m \u001b[38;5;21mis_conjugate\u001b[39m(\u001b[38;5;28mself\u001b[39m, other: \u001b[38;5;124m\"\u001b[39m\u001b[38;5;124mPermutation\u001b[39m\u001b[38;5;124m\"\u001b[39m) \u001b[38;5;241m-\u001b[39m\u001b[38;5;241m>\u001b[39m \u001b[38;5;28mbool\u001b[39m:\n\u001b[0;32m---> 41\u001b[0m     \u001b[38;5;28;01mreturn\u001b[39;00m \u001b[38;5;28;43mself\u001b[39;49m\u001b[38;5;241;43m.\u001b[39;49m\u001b[43minverse\u001b[49m\u001b[43m(\u001b[49m\u001b[43m)\u001b[49m\u001b[43m \u001b[49m\u001b[38;5;241;43m*\u001b[39;49m\u001b[43m \u001b[49m\u001b[43mother\u001b[49m\u001b[43m \u001b[49m\u001b[38;5;241;43m*\u001b[39;49m\u001b[43m \u001b[49m\u001b[38;5;28;43mself\u001b[39;49m \u001b[38;5;241m==\u001b[39m other\n",
      "File \u001b[0;32m~/Projects/permutation_groups/notebooks/../src/main.py:25\u001b[0m, in \u001b[0;36mPermutation.__mul__\u001b[0;34m(self, thr)\u001b[0m\n\u001b[1;32m     23\u001b[0m \u001b[38;5;28;01mif\u001b[39;00m \u001b[38;5;28mself\u001b[39m\u001b[38;5;241m.\u001b[39mgroup \u001b[38;5;241m!=\u001b[39m thr\u001b[38;5;241m.\u001b[39mgroup:\n\u001b[1;32m     24\u001b[0m     \u001b[38;5;28;01mraise\u001b[39;00m \u001b[38;5;167;01mNotImplementedError\u001b[39;00m\n\u001b[0;32m---> 25\u001b[0m \u001b[38;5;28;01mreturn\u001b[39;00m \u001b[43mPermutation\u001b[49m\u001b[43m(\u001b[49m\u001b[43m{\u001b[49m\u001b[43mk\u001b[49m\u001b[43m:\u001b[49m\u001b[43m \u001b[49m\u001b[43mv\u001b[49m\u001b[38;5;241;43m*\u001b[39;49m\u001b[38;5;241;43m*\u001b[39;49m\u001b[43mthr\u001b[49m\u001b[43m \u001b[49m\u001b[38;5;28;43;01mfor\u001b[39;49;00m\u001b[43m \u001b[49m\u001b[43mk\u001b[49m\u001b[43m,\u001b[49m\u001b[43m \u001b[49m\u001b[43mv\u001b[49m\u001b[43m \u001b[49m\u001b[38;5;129;43;01min\u001b[39;49;00m\u001b[43m \u001b[49m\u001b[38;5;28;43mself\u001b[39;49m\u001b[38;5;241;43m.\u001b[39;49m\u001b[43mrule\u001b[49m\u001b[38;5;241;43m.\u001b[39;49m\u001b[43mitems\u001b[49m\u001b[43m(\u001b[49m\u001b[43m)\u001b[49m\u001b[43m}\u001b[49m\u001b[43m,\u001b[49m\u001b[43m \u001b[49m\u001b[38;5;28;43mself\u001b[39;49m\u001b[38;5;241;43m.\u001b[39;49m\u001b[43mgroup\u001b[49m\u001b[43m)\u001b[49m\n",
      "File \u001b[0;32m~/Projects/permutation_groups/notebooks/../src/main.py:17\u001b[0m, in \u001b[0;36mPermutation.__init__\u001b[0;34m(self, rule, group)\u001b[0m\n\u001b[1;32m     15\u001b[0m \u001b[38;5;28;01mdef\u001b[39;00m \u001b[38;5;21m__init__\u001b[39m(\u001b[38;5;28mself\u001b[39m, rule: \u001b[38;5;28mdict\u001b[39m, group: \u001b[38;5;124m\"\u001b[39m\u001b[38;5;124mPermutationGroup\u001b[39m\u001b[38;5;124m\"\u001b[39m):\n\u001b[1;32m     16\u001b[0m     \u001b[38;5;28mself\u001b[39m\u001b[38;5;241m.\u001b[39mgroup \u001b[38;5;241m=\u001b[39m group\n\u001b[0;32m---> 17\u001b[0m     \u001b[38;5;28mself\u001b[39m\u001b[38;5;241m.\u001b[39mrule \u001b[38;5;241m=\u001b[39m \u001b[43mfrozendict\u001b[49m\u001b[43m(\u001b[49m\u001b[43mrule\u001b[49m\u001b[43m)\u001b[49m\n",
      "\u001b[0;31mKeyboardInterrupt\u001b[0m: "
     ]
    }
   ],
   "source": [
    "conjugate_pairs = set()\n",
    "for a, b in tqdm(\n",
    "    itertools.combinations(order_3_elements, r=2),\n",
    "    total=math.comb(len(order_3_elements), 2),\n",
    "):\n",
    "    if a.is_conjugate(b):\n",
    "        conjugate_pairs.add((a, b))"
   ]
  },
  {
   "cell_type": "code",
   "execution_count": null,
   "id": "246f3b77-3835-4d62-ae55-0eb94fc1b0c7",
   "metadata": {},
   "outputs": [],
   "source": [
    "len(conjugate_pairs)"
   ]
  },
  {
   "cell_type": "code",
   "execution_count": null,
   "id": "804e9e0a-68e9-4e9f-a9b0-025b4098dde7",
   "metadata": {},
   "outputs": [],
   "source": []
  }
 ],
 "metadata": {
  "kernelspec": {
   "display_name": "Python [conda env:group_theory]",
   "language": "python",
   "name": "conda-env-group_theory-py"
  },
  "language_info": {
   "codemirror_mode": {
    "name": "ipython",
    "version": 3
   },
   "file_extension": ".py",
   "mimetype": "text/x-python",
   "name": "python",
   "nbconvert_exporter": "python",
   "pygments_lexer": "ipython3",
   "version": "3.10.13"
  }
 },
 "nbformat": 4,
 "nbformat_minor": 5
}
